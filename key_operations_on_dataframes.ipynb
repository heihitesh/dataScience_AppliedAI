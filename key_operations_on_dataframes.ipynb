{
  "cells": [
    {
      "metadata": {
        "id": "ZcMqCohOsK7B",
        "colab_type": "text"
      },
      "cell_type": "markdown",
      "source": "# Read and write CSV and XLS files"
    },
    {
      "metadata": {
        "id": "YAt3VZ-6sK7C",
        "colab_type": "code",
        "outputId": "01235c2d-695f-4390-90d3-d353aa858a85",
        "executionInfo": {
          "status": "error",
          "timestamp": 1567061923351,
          "user_tz": -330,
          "elapsed": 3333,
          "user": {
            "displayName": "Applied AI Course",
            "photoUrl": "https://lh3.googleusercontent.com/a-/AAuE7mC6pMrRYsn22C9tuTEP5-bjFj-F25a3idPwqTuaHQ=s64",
            "userId": "06629147635963609455"
          }
        },
        "colab": {
          "base_uri": "https://localhost:8080/",
          "height": 408
        },
        "trusted": true
      },
      "cell_type": "code",
      "source": "import pandas as pd\ndf = pd.read_csv('weather_data.csv')\ndf",
      "execution_count": 2,
      "outputs": [
        {
          "output_type": "execute_result",
          "execution_count": 2,
          "data": {
            "text/html": "<div>\n<table border=\"1\" class=\"dataframe\">\n  <thead>\n    <tr style=\"text-align: right;\">\n      <th></th>\n      <th>day</th>\n      <th>temperature</th>\n      <th>windspeed</th>\n      <th>event</th>\n    </tr>\n  </thead>\n  <tbody>\n    <tr>\n      <th>0</th>\n      <td>1/1/2017</td>\n      <td>32</td>\n      <td>6</td>\n      <td>Rain</td>\n    </tr>\n    <tr>\n      <th>1</th>\n      <td>1/2/2017</td>\n      <td>35</td>\n      <td>7</td>\n      <td>Sunny</td>\n    </tr>\n    <tr>\n      <th>2</th>\n      <td>1/3/2017</td>\n      <td>28</td>\n      <td>2</td>\n      <td>Snow</td>\n    </tr>\n    <tr>\n      <th>3</th>\n      <td>1/4/2017</td>\n      <td>24</td>\n      <td>7</td>\n      <td>Snow</td>\n    </tr>\n    <tr>\n      <th>4</th>\n      <td>1/5/2017</td>\n      <td>32</td>\n      <td>4</td>\n      <td>Rain</td>\n    </tr>\n    <tr>\n      <th>5</th>\n      <td>1/6/2017</td>\n      <td>31</td>\n      <td>2</td>\n      <td>Sunny</td>\n    </tr>\n  </tbody>\n</table>\n</div>",
            "text/plain": "        day  temperature  windspeed  event\n0  1/1/2017           32          6   Rain\n1  1/2/2017           35          7  Sunny\n2  1/3/2017           28          2   Snow\n3  1/4/2017           24          7   Snow\n4  1/5/2017           32          4   Rain\n5  1/6/2017           31          2  Sunny"
          },
          "metadata": {}
        }
      ]
    },
    {
      "metadata": {
        "id": "oT1rKPabsK7I",
        "colab_type": "code",
        "colab": {},
        "trusted": true
      },
      "cell_type": "code",
      "source": "#INSTALL: pip3 install xlrd\n\n#read excel file \ndf = pd.read_excel('weather_data.xlsx')\ndf",
      "execution_count": 4,
      "outputs": [
        {
          "output_type": "execute_result",
          "execution_count": 4,
          "data": {
            "text/html": "<div>\n<table border=\"1\" class=\"dataframe\">\n  <thead>\n    <tr style=\"text-align: right;\">\n      <th></th>\n      <th>day</th>\n      <th>temperature</th>\n      <th>windspeed</th>\n      <th>event</th>\n    </tr>\n  </thead>\n  <tbody>\n    <tr>\n      <th>0</th>\n      <td>1/1/2017</td>\n      <td>32</td>\n      <td>6</td>\n      <td>Rain</td>\n    </tr>\n    <tr>\n      <th>1</th>\n      <td>1/2/2017</td>\n      <td>35</td>\n      <td>7</td>\n      <td>Sunny</td>\n    </tr>\n    <tr>\n      <th>2</th>\n      <td>1/3/2017</td>\n      <td>28</td>\n      <td>2</td>\n      <td>Snow</td>\n    </tr>\n    <tr>\n      <th>3</th>\n      <td>1/4/2017</td>\n      <td>24</td>\n      <td>7</td>\n      <td>Snow</td>\n    </tr>\n    <tr>\n      <th>4</th>\n      <td>1/5/2017</td>\n      <td>32</td>\n      <td>4</td>\n      <td>Rain</td>\n    </tr>\n    <tr>\n      <th>5</th>\n      <td>1/6/2017</td>\n      <td>31</td>\n      <td>2</td>\n      <td>Sunny</td>\n    </tr>\n  </tbody>\n</table>\n</div>",
            "text/plain": "        day  temperature  windspeed  event\n0  1/1/2017           32          6   Rain\n1  1/2/2017           35          7  Sunny\n2  1/3/2017           28          2   Snow\n3  1/4/2017           24          7   Snow\n4  1/5/2017           32          4   Rain\n5  1/6/2017           31          2  Sunny"
          },
          "metadata": {}
        }
      ]
    },
    {
      "metadata": {
        "id": "PlblL3yHsK7M",
        "colab_type": "code",
        "colab": {},
        "trusted": true
      },
      "cell_type": "code",
      "source": "#write DF to csv\ndf.to_csv('new.csv') \ndf.to_csv('new_noIndex.csv', index=False)",
      "execution_count": 5,
      "outputs": []
    },
    {
      "metadata": {
        "id": "6ZF5HkthsK7O",
        "colab_type": "code",
        "colab": {},
        "trusted": true
      },
      "cell_type": "code",
      "source": "# INSTALL: pip3 install openpyxl\n\n#write DF to Excel\ndf.to_excel('new.xlsx', sheet_name='weather_data')",
      "execution_count": 6,
      "outputs": []
    },
    {
      "metadata": {
        "id": "RzT9J4ZysK7R",
        "colab_type": "text"
      },
      "cell_type": "markdown",
      "source": "# GROUP-BY"
    },
    {
      "metadata": {
        "id": "g4YY64sbsK7S",
        "colab_type": "code",
        "outputId": "5e9af13a-1976-4737-eeee-994757c87cd0",
        "colab": {},
        "trusted": false
      },
      "cell_type": "code",
      "source": "import pandas as pd\ndf = pd.read_csv('weather_data_cities.csv')\ndf #weather by cities",
      "execution_count": 0,
      "outputs": [
        {
          "output_type": "execute_result",
          "data": {
            "text/html": "<div>\n<style>\n    .dataframe thead tr:only-child th {\n        text-align: right;\n    }\n\n    .dataframe thead th {\n        text-align: left;\n    }\n\n    .dataframe tbody tr th {\n        vertical-align: top;\n    }\n</style>\n<table border=\"1\" class=\"dataframe\">\n  <thead>\n    <tr style=\"text-align: right;\">\n      <th></th>\n      <th>day</th>\n      <th>city</th>\n      <th>temperature</th>\n      <th>windspeed</th>\n      <th>event</th>\n    </tr>\n  </thead>\n  <tbody>\n    <tr>\n      <th>0</th>\n      <td>1/1/2017</td>\n      <td>new york</td>\n      <td>32</td>\n      <td>6</td>\n      <td>Rain</td>\n    </tr>\n    <tr>\n      <th>1</th>\n      <td>1/2/2017</td>\n      <td>new york</td>\n      <td>36</td>\n      <td>7</td>\n      <td>Sunny</td>\n    </tr>\n    <tr>\n      <th>2</th>\n      <td>1/3/2017</td>\n      <td>new york</td>\n      <td>28</td>\n      <td>12</td>\n      <td>Snow</td>\n    </tr>\n    <tr>\n      <th>3</th>\n      <td>1/4/2017</td>\n      <td>new york</td>\n      <td>33</td>\n      <td>7</td>\n      <td>Sunny</td>\n    </tr>\n    <tr>\n      <th>4</th>\n      <td>1/1/2017</td>\n      <td>mumbai</td>\n      <td>90</td>\n      <td>5</td>\n      <td>Sunny</td>\n    </tr>\n    <tr>\n      <th>5</th>\n      <td>1/2/2017</td>\n      <td>mumbai</td>\n      <td>85</td>\n      <td>12</td>\n      <td>Fog</td>\n    </tr>\n    <tr>\n      <th>6</th>\n      <td>1/3/2017</td>\n      <td>mumbai</td>\n      <td>87</td>\n      <td>15</td>\n      <td>Fog</td>\n    </tr>\n    <tr>\n      <th>7</th>\n      <td>1/4/2017</td>\n      <td>mumbai</td>\n      <td>92</td>\n      <td>5</td>\n      <td>Rain</td>\n    </tr>\n    <tr>\n      <th>8</th>\n      <td>1/1/2017</td>\n      <td>paris</td>\n      <td>45</td>\n      <td>20</td>\n      <td>Sunny</td>\n    </tr>\n    <tr>\n      <th>9</th>\n      <td>1/2/2017</td>\n      <td>paris</td>\n      <td>50</td>\n      <td>13</td>\n      <td>Cloudy</td>\n    </tr>\n    <tr>\n      <th>10</th>\n      <td>1/3/2017</td>\n      <td>paris</td>\n      <td>54</td>\n      <td>8</td>\n      <td>Cloudy</td>\n    </tr>\n    <tr>\n      <th>11</th>\n      <td>1/4/2017</td>\n      <td>paris</td>\n      <td>42</td>\n      <td>10</td>\n      <td>Cloudy</td>\n    </tr>\n  </tbody>\n</table>\n</div>",
            "text/plain": "         day      city  temperature  windspeed   event\n0   1/1/2017  new york           32          6    Rain\n1   1/2/2017  new york           36          7   Sunny\n2   1/3/2017  new york           28         12    Snow\n3   1/4/2017  new york           33          7   Sunny\n4   1/1/2017    mumbai           90          5   Sunny\n5   1/2/2017    mumbai           85         12     Fog\n6   1/3/2017    mumbai           87         15     Fog\n7   1/4/2017    mumbai           92          5    Rain\n8   1/1/2017     paris           45         20   Sunny\n9   1/2/2017     paris           50         13  Cloudy\n10  1/3/2017     paris           54          8  Cloudy\n11  1/4/2017     paris           42         10  Cloudy"
          },
          "metadata": {
            "tags": []
          },
          "execution_count": 14
        }
      ]
    },
    {
      "metadata": {
        "id": "YYXjYb-2sK7V",
        "colab_type": "code",
        "outputId": "029b2173-57e3-4085-bc3b-1f62b6f81bba",
        "colab": {},
        "trusted": false
      },
      "cell_type": "code",
      "source": "g = df.groupby('city')\ng",
      "execution_count": 0,
      "outputs": [
        {
          "output_type": "execute_result",
          "data": {
            "text/plain": "<pandas.core.groupby.DataFrameGroupBy object at 0x106d495f8>"
          },
          "metadata": {
            "tags": []
          },
          "execution_count": 15
        }
      ]
    },
    {
      "metadata": {
        "id": "SuhY5rNfsK7Z",
        "colab_type": "code",
        "outputId": "f563434e-d686-4877-b78a-55ad077827d3",
        "colab": {},
        "trusted": false
      },
      "cell_type": "code",
      "source": "for city, city_df in g:\n    print(city)\n    print(city_df)",
      "execution_count": 0,
      "outputs": [
        {
          "output_type": "stream",
          "text": "mumbai\n        day    city  temperature  windspeed  event\n4  1/1/2017  mumbai           90          5  Sunny\n5  1/2/2017  mumbai           85         12    Fog\n6  1/3/2017  mumbai           87         15    Fog\n7  1/4/2017  mumbai           92          5   Rain\nnew york\n        day      city  temperature  windspeed  event\n0  1/1/2017  new york           32          6   Rain\n1  1/2/2017  new york           36          7  Sunny\n2  1/3/2017  new york           28         12   Snow\n3  1/4/2017  new york           33          7  Sunny\nparis\n         day   city  temperature  windspeed   event\n8   1/1/2017  paris           45         20   Sunny\n9   1/2/2017  paris           50         13  Cloudy\n10  1/3/2017  paris           54          8  Cloudy\n11  1/4/2017  paris           42         10  Cloudy\n",
          "name": "stdout"
        }
      ]
    },
    {
      "metadata": {
        "id": "A3GmoRWCsK7f",
        "colab_type": "code",
        "outputId": "e5434152-365a-4aeb-fe6c-4d8ad03108ed",
        "colab": {},
        "trusted": false
      },
      "cell_type": "code",
      "source": "#or to get specific group\ng.get_group('new york')\n",
      "execution_count": 0,
      "outputs": [
        {
          "output_type": "execute_result",
          "data": {
            "text/html": "<div>\n<style>\n    .dataframe thead tr:only-child th {\n        text-align: right;\n    }\n\n    .dataframe thead th {\n        text-align: left;\n    }\n\n    .dataframe tbody tr th {\n        vertical-align: top;\n    }\n</style>\n<table border=\"1\" class=\"dataframe\">\n  <thead>\n    <tr style=\"text-align: right;\">\n      <th></th>\n      <th>day</th>\n      <th>city</th>\n      <th>temperature</th>\n      <th>windspeed</th>\n      <th>event</th>\n    </tr>\n  </thead>\n  <tbody>\n    <tr>\n      <th>0</th>\n      <td>1/1/2017</td>\n      <td>new york</td>\n      <td>32</td>\n      <td>6</td>\n      <td>Rain</td>\n    </tr>\n    <tr>\n      <th>1</th>\n      <td>1/2/2017</td>\n      <td>new york</td>\n      <td>36</td>\n      <td>7</td>\n      <td>Sunny</td>\n    </tr>\n    <tr>\n      <th>2</th>\n      <td>1/3/2017</td>\n      <td>new york</td>\n      <td>28</td>\n      <td>12</td>\n      <td>Snow</td>\n    </tr>\n    <tr>\n      <th>3</th>\n      <td>1/4/2017</td>\n      <td>new york</td>\n      <td>33</td>\n      <td>7</td>\n      <td>Sunny</td>\n    </tr>\n  </tbody>\n</table>\n</div>",
            "text/plain": "        day      city  temperature  windspeed  event\n0  1/1/2017  new york           32          6   Rain\n1  1/2/2017  new york           36          7  Sunny\n2  1/3/2017  new york           28         12   Snow\n3  1/4/2017  new york           33          7  Sunny"
          },
          "metadata": {
            "tags": []
          },
          "execution_count": 18
        }
      ]
    },
    {
      "metadata": {
        "id": "ccxPVzgVsK7i",
        "colab_type": "code",
        "outputId": "4b194921-deae-44e2-e21c-758ec30f03f6",
        "colab": {},
        "trusted": false
      },
      "cell_type": "code",
      "source": "#Find maximum temperature in each of the cities\nprint(g.max())",
      "execution_count": 0,
      "outputs": [
        {
          "output_type": "stream",
          "text": "               day  temperature  windspeed  event\ncity                                             \nmumbai    1/4/2017           92         15  Sunny\nnew york  1/4/2017           36         12  Sunny\nparis     1/4/2017           54         20  Sunny\n",
          "name": "stdout"
        }
      ]
    },
    {
      "metadata": {
        "id": "20hwbkrqsK7m",
        "colab_type": "code",
        "outputId": "c5bd07da-c28f-4dd4-e0f0-df9959dcc8e1",
        "colab": {},
        "trusted": false
      },
      "cell_type": "code",
      "source": "print(g.mean())\n",
      "execution_count": 0,
      "outputs": [
        {
          "output_type": "stream",
          "text": "          temperature  windspeed\ncity                            \nmumbai          88.50       9.25\nnew york        32.25       8.00\nparis           47.75      12.75\n",
          "name": "stdout"
        }
      ]
    },
    {
      "metadata": {
        "id": "ayKxFWPOsK7p",
        "colab_type": "code",
        "outputId": "db8ab616-7d7a-4cd9-f1c2-8fa0a31a6eda",
        "colab": {},
        "trusted": false
      },
      "cell_type": "code",
      "source": "print(g.describe())",
      "execution_count": 0,
      "outputs": [
        {
          "output_type": "stream",
          "text": "         temperature                                                   \\\n               count   mean       std   min    25%   50%    75%   max   \ncity                                                                    \nmumbai           4.0  88.50  3.109126  85.0  86.50  88.5  90.50  92.0   \nnew york         4.0  32.25  3.304038  28.0  31.00  32.5  33.75  36.0   \nparis            4.0  47.75  5.315073  42.0  44.25  47.5  51.00  54.0   \n\n         windspeed                                                 \n             count   mean       std  min   25%   50%    75%   max  \ncity                                                               \nmumbai         4.0   9.25  5.057997  5.0  5.00   8.5  12.75  15.0  \nnew york       4.0   8.00  2.708013  6.0  6.75   7.0   8.25  12.0  \nparis          4.0  12.75  5.251984  8.0  9.50  11.5  14.75  20.0  \n",
          "name": "stdout"
        }
      ]
    },
    {
      "metadata": {
        "id": "S0ejCDYUsK7s",
        "colab_type": "text"
      },
      "cell_type": "markdown",
      "source": "# concatenate Data Frames"
    },
    {
      "metadata": {
        "id": "guywqgX3sK7u",
        "colab_type": "code",
        "outputId": "3e4f0bd5-dbf4-48b4-ab58-bcfed907d22f",
        "colab": {},
        "trusted": false
      },
      "cell_type": "code",
      "source": "import pandas as pd\nindia_weather = pd.DataFrame({\n    \"city\": [\"mumbai\",\"delhi\",\"banglore\"],\n    \"temperature\": [32,45,30],\n    \"humidity\": [80, 60, 78]\n})\n\nindia_weather",
      "execution_count": 0,
      "outputs": [
        {
          "output_type": "execute_result",
          "data": {
            "text/html": "<div>\n<style>\n    .dataframe thead tr:only-child th {\n        text-align: right;\n    }\n\n    .dataframe thead th {\n        text-align: left;\n    }\n\n    .dataframe tbody tr th {\n        vertical-align: top;\n    }\n</style>\n<table border=\"1\" class=\"dataframe\">\n  <thead>\n    <tr style=\"text-align: right;\">\n      <th></th>\n      <th>city</th>\n      <th>humidity</th>\n      <th>temperature</th>\n    </tr>\n  </thead>\n  <tbody>\n    <tr>\n      <th>0</th>\n      <td>mumbai</td>\n      <td>80</td>\n      <td>32</td>\n    </tr>\n    <tr>\n      <th>1</th>\n      <td>delhi</td>\n      <td>60</td>\n      <td>45</td>\n    </tr>\n    <tr>\n      <th>2</th>\n      <td>banglore</td>\n      <td>78</td>\n      <td>30</td>\n    </tr>\n  </tbody>\n</table>\n</div>",
            "text/plain": "       city  humidity  temperature\n0    mumbai        80           32\n1     delhi        60           45\n2  banglore        78           30"
          },
          "metadata": {
            "tags": []
          },
          "execution_count": 26
        }
      ]
    },
    {
      "metadata": {
        "id": "56m1pVT7sK7x",
        "colab_type": "code",
        "outputId": "09a547be-9af2-424b-b2b4-30c44f3def49",
        "colab": {},
        "trusted": false
      },
      "cell_type": "code",
      "source": "us_weather = pd.DataFrame({\n    \"city\": [\"new york\",\"chicago\",\"orlando\"],\n    \"temperature\": [21,14,35],\n    \"humidity\": [68, 65, 75]\n})\nus_weather",
      "execution_count": 0,
      "outputs": [
        {
          "output_type": "execute_result",
          "data": {
            "text/html": "<div>\n<style>\n    .dataframe thead tr:only-child th {\n        text-align: right;\n    }\n\n    .dataframe thead th {\n        text-align: left;\n    }\n\n    .dataframe tbody tr th {\n        vertical-align: top;\n    }\n</style>\n<table border=\"1\" class=\"dataframe\">\n  <thead>\n    <tr style=\"text-align: right;\">\n      <th></th>\n      <th>city</th>\n      <th>humidity</th>\n      <th>temperature</th>\n    </tr>\n  </thead>\n  <tbody>\n    <tr>\n      <th>0</th>\n      <td>new york</td>\n      <td>68</td>\n      <td>21</td>\n    </tr>\n    <tr>\n      <th>1</th>\n      <td>chicago</td>\n      <td>65</td>\n      <td>14</td>\n    </tr>\n    <tr>\n      <th>2</th>\n      <td>orlando</td>\n      <td>75</td>\n      <td>35</td>\n    </tr>\n  </tbody>\n</table>\n</div>",
            "text/plain": "       city  humidity  temperature\n0  new york        68           21\n1   chicago        65           14\n2   orlando        75           35"
          },
          "metadata": {
            "tags": []
          },
          "execution_count": 27
        }
      ]
    },
    {
      "metadata": {
        "id": "x3GQCVNfsK71",
        "colab_type": "code",
        "outputId": "5995671b-881f-470a-d6de-5ed6705663b3",
        "colab": {},
        "trusted": false
      },
      "cell_type": "code",
      "source": "#concate two dataframes\ndf = pd.concat([india_weather, us_weather])\ndf",
      "execution_count": 0,
      "outputs": [
        {
          "output_type": "execute_result",
          "data": {
            "text/html": "<div>\n<style>\n    .dataframe thead tr:only-child th {\n        text-align: right;\n    }\n\n    .dataframe thead th {\n        text-align: left;\n    }\n\n    .dataframe tbody tr th {\n        vertical-align: top;\n    }\n</style>\n<table border=\"1\" class=\"dataframe\">\n  <thead>\n    <tr style=\"text-align: right;\">\n      <th></th>\n      <th>city</th>\n      <th>humidity</th>\n      <th>temperature</th>\n    </tr>\n  </thead>\n  <tbody>\n    <tr>\n      <th>0</th>\n      <td>mumbai</td>\n      <td>80</td>\n      <td>32</td>\n    </tr>\n    <tr>\n      <th>1</th>\n      <td>delhi</td>\n      <td>60</td>\n      <td>45</td>\n    </tr>\n    <tr>\n      <th>2</th>\n      <td>banglore</td>\n      <td>78</td>\n      <td>30</td>\n    </tr>\n    <tr>\n      <th>0</th>\n      <td>new york</td>\n      <td>68</td>\n      <td>21</td>\n    </tr>\n    <tr>\n      <th>1</th>\n      <td>chicago</td>\n      <td>65</td>\n      <td>14</td>\n    </tr>\n    <tr>\n      <th>2</th>\n      <td>orlando</td>\n      <td>75</td>\n      <td>35</td>\n    </tr>\n  </tbody>\n</table>\n</div>",
            "text/plain": "       city  humidity  temperature\n0    mumbai        80           32\n1     delhi        60           45\n2  banglore        78           30\n0  new york        68           21\n1   chicago        65           14\n2   orlando        75           35"
          },
          "metadata": {
            "tags": []
          },
          "execution_count": 28
        }
      ]
    },
    {
      "metadata": {
        "id": "rfSAVjmdsK75",
        "colab_type": "code",
        "outputId": "38011dfe-ecf8-4c39-ab74-e00a3090708b",
        "colab": {},
        "trusted": false
      },
      "cell_type": "code",
      "source": "#if you want continuous index\ndf = pd.concat([india_weather, us_weather], ignore_index=True)\ndf",
      "execution_count": 0,
      "outputs": [
        {
          "output_type": "execute_result",
          "data": {
            "text/html": "<div>\n<style>\n    .dataframe thead tr:only-child th {\n        text-align: right;\n    }\n\n    .dataframe thead th {\n        text-align: left;\n    }\n\n    .dataframe tbody tr th {\n        vertical-align: top;\n    }\n</style>\n<table border=\"1\" class=\"dataframe\">\n  <thead>\n    <tr style=\"text-align: right;\">\n      <th></th>\n      <th>city</th>\n      <th>humidity</th>\n      <th>temperature</th>\n    </tr>\n  </thead>\n  <tbody>\n    <tr>\n      <th>0</th>\n      <td>mumbai</td>\n      <td>80</td>\n      <td>32</td>\n    </tr>\n    <tr>\n      <th>1</th>\n      <td>delhi</td>\n      <td>60</td>\n      <td>45</td>\n    </tr>\n    <tr>\n      <th>2</th>\n      <td>banglore</td>\n      <td>78</td>\n      <td>30</td>\n    </tr>\n    <tr>\n      <th>3</th>\n      <td>new york</td>\n      <td>68</td>\n      <td>21</td>\n    </tr>\n    <tr>\n      <th>4</th>\n      <td>chicago</td>\n      <td>65</td>\n      <td>14</td>\n    </tr>\n    <tr>\n      <th>5</th>\n      <td>orlando</td>\n      <td>75</td>\n      <td>35</td>\n    </tr>\n  </tbody>\n</table>\n</div>",
            "text/plain": "       city  humidity  temperature\n0    mumbai        80           32\n1     delhi        60           45\n2  banglore        78           30\n3  new york        68           21\n4   chicago        65           14\n5   orlando        75           35"
          },
          "metadata": {
            "tags": []
          },
          "execution_count": 29
        }
      ]
    },
    {
      "metadata": {
        "id": "abTtEcqnsK7-",
        "colab_type": "code",
        "outputId": "038a4293-956f-4021-e47e-00f46881bbf3",
        "colab": {},
        "trusted": false
      },
      "cell_type": "code",
      "source": "df = pd.concat([india_weather, us_weather],axis=1)\ndf",
      "execution_count": 0,
      "outputs": [
        {
          "output_type": "execute_result",
          "data": {
            "text/html": "<div>\n<style>\n    .dataframe thead tr:only-child th {\n        text-align: right;\n    }\n\n    .dataframe thead th {\n        text-align: left;\n    }\n\n    .dataframe tbody tr th {\n        vertical-align: top;\n    }\n</style>\n<table border=\"1\" class=\"dataframe\">\n  <thead>\n    <tr style=\"text-align: right;\">\n      <th></th>\n      <th>city</th>\n      <th>humidity</th>\n      <th>temperature</th>\n      <th>city</th>\n      <th>humidity</th>\n      <th>temperature</th>\n    </tr>\n  </thead>\n  <tbody>\n    <tr>\n      <th>0</th>\n      <td>mumbai</td>\n      <td>80</td>\n      <td>32</td>\n      <td>new york</td>\n      <td>68</td>\n      <td>21</td>\n    </tr>\n    <tr>\n      <th>1</th>\n      <td>delhi</td>\n      <td>60</td>\n      <td>45</td>\n      <td>chicago</td>\n      <td>65</td>\n      <td>14</td>\n    </tr>\n    <tr>\n      <th>2</th>\n      <td>banglore</td>\n      <td>78</td>\n      <td>30</td>\n      <td>orlando</td>\n      <td>75</td>\n      <td>35</td>\n    </tr>\n  </tbody>\n</table>\n</div>",
            "text/plain": "       city  humidity  temperature      city  humidity  temperature\n0    mumbai        80           32  new york        68           21\n1     delhi        60           45   chicago        65           14\n2  banglore        78           30   orlando        75           35"
          },
          "metadata": {
            "tags": []
          },
          "execution_count": 30
        }
      ]
    },
    {
      "metadata": {
        "id": "8uulelVEsK8C",
        "colab_type": "text"
      },
      "cell_type": "markdown",
      "source": "# Merge DataFrames"
    },
    {
      "metadata": {
        "id": "q7aFBEFMsK8C",
        "colab_type": "code",
        "outputId": "e6f800a0-9d59-4670-db19-af7d763f028e",
        "colab": {},
        "trusted": false
      },
      "cell_type": "code",
      "source": "temperature_df = pd.DataFrame({\n    \"city\": [\"mumbai\",\"delhi\",\"banglore\", 'hyderabad'],\n    \"temperature\": [32,45,30,40]})\ntemperature_df",
      "execution_count": 0,
      "outputs": [
        {
          "output_type": "execute_result",
          "data": {
            "text/html": "<div>\n<style>\n    .dataframe thead tr:only-child th {\n        text-align: right;\n    }\n\n    .dataframe thead th {\n        text-align: left;\n    }\n\n    .dataframe tbody tr th {\n        vertical-align: top;\n    }\n</style>\n<table border=\"1\" class=\"dataframe\">\n  <thead>\n    <tr style=\"text-align: right;\">\n      <th></th>\n      <th>city</th>\n      <th>temperature</th>\n    </tr>\n  </thead>\n  <tbody>\n    <tr>\n      <th>0</th>\n      <td>mumbai</td>\n      <td>32</td>\n    </tr>\n    <tr>\n      <th>1</th>\n      <td>delhi</td>\n      <td>45</td>\n    </tr>\n    <tr>\n      <th>2</th>\n      <td>banglore</td>\n      <td>30</td>\n    </tr>\n    <tr>\n      <th>3</th>\n      <td>hyderabad</td>\n      <td>40</td>\n    </tr>\n  </tbody>\n</table>\n</div>",
            "text/plain": "        city  temperature\n0     mumbai           32\n1      delhi           45\n2   banglore           30\n3  hyderabad           40"
          },
          "metadata": {
            "tags": []
          },
          "execution_count": 34
        }
      ]
    },
    {
      "metadata": {
        "id": "UfeQu7TrsK8G",
        "colab_type": "code",
        "outputId": "db0f0046-439a-4dd4-84a9-3f55a4411c67",
        "colab": {},
        "trusted": false
      },
      "cell_type": "code",
      "source": "humidity_df = pd.DataFrame({\n    \"city\": [\"delhi\",\"mumbai\",\"banglore\"],\n    \"humidity\": [68, 65, 75]})\nhumidity_df",
      "execution_count": 0,
      "outputs": [
        {
          "output_type": "execute_result",
          "data": {
            "text/html": "<div>\n<style>\n    .dataframe thead tr:only-child th {\n        text-align: right;\n    }\n\n    .dataframe thead th {\n        text-align: left;\n    }\n\n    .dataframe tbody tr th {\n        vertical-align: top;\n    }\n</style>\n<table border=\"1\" class=\"dataframe\">\n  <thead>\n    <tr style=\"text-align: right;\">\n      <th></th>\n      <th>city</th>\n      <th>humidity</th>\n    </tr>\n  </thead>\n  <tbody>\n    <tr>\n      <th>0</th>\n      <td>delhi</td>\n      <td>68</td>\n    </tr>\n    <tr>\n      <th>1</th>\n      <td>mumbai</td>\n      <td>65</td>\n    </tr>\n    <tr>\n      <th>2</th>\n      <td>banglore</td>\n      <td>75</td>\n    </tr>\n  </tbody>\n</table>\n</div>",
            "text/plain": "       city  humidity\n0     delhi        68\n1    mumbai        65\n2  banglore        75"
          },
          "metadata": {
            "tags": []
          },
          "execution_count": 35
        }
      ]
    },
    {
      "metadata": {
        "id": "Ee1Xn1JhsK8J",
        "colab_type": "code",
        "outputId": "1ea25755-be1b-43c7-bac5-c72c33be986f",
        "colab": {},
        "trusted": false
      },
      "cell_type": "code",
      "source": "#merge two dataframes with out explicitly mention index\ndf = pd.merge(temperature_df, humidity_df, on='city')\ndf",
      "execution_count": 0,
      "outputs": [
        {
          "output_type": "execute_result",
          "data": {
            "text/html": "<div>\n<style>\n    .dataframe thead tr:only-child th {\n        text-align: right;\n    }\n\n    .dataframe thead th {\n        text-align: left;\n    }\n\n    .dataframe tbody tr th {\n        vertical-align: top;\n    }\n</style>\n<table border=\"1\" class=\"dataframe\">\n  <thead>\n    <tr style=\"text-align: right;\">\n      <th></th>\n      <th>city</th>\n      <th>temperature</th>\n      <th>humidity</th>\n    </tr>\n  </thead>\n  <tbody>\n    <tr>\n      <th>0</th>\n      <td>mumbai</td>\n      <td>32</td>\n      <td>65</td>\n    </tr>\n    <tr>\n      <th>1</th>\n      <td>delhi</td>\n      <td>45</td>\n      <td>68</td>\n    </tr>\n    <tr>\n      <th>2</th>\n      <td>banglore</td>\n      <td>30</td>\n      <td>75</td>\n    </tr>\n  </tbody>\n</table>\n</div>",
            "text/plain": "       city  temperature  humidity\n0    mumbai           32        65\n1     delhi           45        68\n2  banglore           30        75"
          },
          "metadata": {
            "tags": []
          },
          "execution_count": 36
        }
      ]
    },
    {
      "metadata": {
        "id": "Wa9EQCNlsK8M",
        "colab_type": "code",
        "outputId": "09630629-d670-4229-b7b1-9f2694ecd865",
        "colab": {},
        "trusted": false
      },
      "cell_type": "code",
      "source": "#OUTER-JOIN\ndf = pd.merge(temperature_df, humidity_df, on='city', how='outer')\ndf",
      "execution_count": 0,
      "outputs": [
        {
          "output_type": "execute_result",
          "data": {
            "text/html": "<div>\n<style>\n    .dataframe thead tr:only-child th {\n        text-align: right;\n    }\n\n    .dataframe thead th {\n        text-align: left;\n    }\n\n    .dataframe tbody tr th {\n        vertical-align: top;\n    }\n</style>\n<table border=\"1\" class=\"dataframe\">\n  <thead>\n    <tr style=\"text-align: right;\">\n      <th></th>\n      <th>city</th>\n      <th>temperature</th>\n      <th>humidity</th>\n    </tr>\n  </thead>\n  <tbody>\n    <tr>\n      <th>0</th>\n      <td>mumbai</td>\n      <td>32</td>\n      <td>65.0</td>\n    </tr>\n    <tr>\n      <th>1</th>\n      <td>delhi</td>\n      <td>45</td>\n      <td>68.0</td>\n    </tr>\n    <tr>\n      <th>2</th>\n      <td>banglore</td>\n      <td>30</td>\n      <td>75.0</td>\n    </tr>\n    <tr>\n      <th>3</th>\n      <td>hyderabad</td>\n      <td>40</td>\n      <td>NaN</td>\n    </tr>\n  </tbody>\n</table>\n</div>",
            "text/plain": "        city  temperature  humidity\n0     mumbai           32      65.0\n1      delhi           45      68.0\n2   banglore           30      75.0\n3  hyderabad           40       NaN"
          },
          "metadata": {
            "tags": []
          },
          "execution_count": 38
        }
      ]
    },
    {
      "metadata": {
        "collapsed": true,
        "id": "ecGaNHTlsK8P",
        "colab_type": "text"
      },
      "cell_type": "markdown",
      "source": "# Numerical Indexing (.loc vs iloc)"
    },
    {
      "metadata": {
        "id": "fgNWHOKNmeVP",
        "colab_type": "code",
        "colab": {},
        "trusted": false
      },
      "cell_type": "code",
      "source": "import pandas as pd\nimport numpy as np",
      "execution_count": 0,
      "outputs": []
    },
    {
      "metadata": {
        "id": "9KvFO9WfsK8Q",
        "colab_type": "code",
        "outputId": "a611e5b1-a1ee-4154-caeb-62c7a16153b8",
        "executionInfo": {
          "status": "ok",
          "timestamp": 1548261944924,
          "user_tz": -330,
          "elapsed": 864,
          "user": {
            "displayName": "Applied AI Course",
            "photoUrl": "https://lh3.googleusercontent.com/-EsJzSyawCkQ/AAAAAAAAAAI/AAAAAAAADag/xYU9KO6AZf4/s64/photo.jpg",
            "userId": "06629147635963609455"
          }
        },
        "colab": {
          "base_uri": "https://localhost:8080/",
          "height": 359
        },
        "trusted": false
      },
      "cell_type": "code",
      "source": "df = pd.DataFrame([1,2,3,4,5,6,7,8,9,19], index=[49,48,47,46,45, 1, 2, 3, 4, 5])\ndf",
      "execution_count": 0,
      "outputs": [
        {
          "output_type": "execute_result",
          "data": {
            "text/html": "<div>\n<style scoped>\n    .dataframe tbody tr th:only-of-type {\n        vertical-align: middle;\n    }\n\n    .dataframe tbody tr th {\n        vertical-align: top;\n    }\n\n    .dataframe thead th {\n        text-align: right;\n    }\n</style>\n<table border=\"1\" class=\"dataframe\">\n  <thead>\n    <tr style=\"text-align: right;\">\n      <th></th>\n      <th>0</th>\n    </tr>\n  </thead>\n  <tbody>\n    <tr>\n      <th>49</th>\n      <td>1</td>\n    </tr>\n    <tr>\n      <th>48</th>\n      <td>2</td>\n    </tr>\n    <tr>\n      <th>47</th>\n      <td>3</td>\n    </tr>\n    <tr>\n      <th>46</th>\n      <td>4</td>\n    </tr>\n    <tr>\n      <th>45</th>\n      <td>5</td>\n    </tr>\n    <tr>\n      <th>1</th>\n      <td>6</td>\n    </tr>\n    <tr>\n      <th>2</th>\n      <td>7</td>\n    </tr>\n    <tr>\n      <th>3</th>\n      <td>8</td>\n    </tr>\n    <tr>\n      <th>4</th>\n      <td>9</td>\n    </tr>\n    <tr>\n      <th>5</th>\n      <td>19</td>\n    </tr>\n  </tbody>\n</table>\n</div>",
            "text/plain": "     0\n49   1\n48   2\n47   3\n46   4\n45   5\n1    6\n2    7\n3    8\n4    9\n5   19"
          },
          "metadata": {
            "tags": []
          },
          "execution_count": 2
        }
      ]
    },
    {
      "metadata": {
        "id": "IIFtfjoksK8T",
        "colab_type": "code",
        "outputId": "dc52c58a-e351-4838-cbf4-bb7aa3aa0b7f",
        "executionInfo": {
          "status": "error",
          "timestamp": 1548261952054,
          "user_tz": -330,
          "elapsed": 892,
          "user": {
            "displayName": "Applied AI Course",
            "photoUrl": "https://lh3.googleusercontent.com/-EsJzSyawCkQ/AAAAAAAAAAI/AAAAAAAADag/xYU9KO6AZf4/s64/photo.jpg",
            "userId": "06629147635963609455"
          }
        },
        "colab": {
          "base_uri": "https://localhost:8080/",
          "height": 163
        },
        "trusted": false
      },
      "cell_type": "code",
      "source": "s.loc[:2]",
      "execution_count": 0,
      "outputs": [
        {
          "output_type": "error",
          "ename": "NameError",
          "evalue": "ignored",
          "traceback": [
            "\u001b[0;31m---------------------------------------------------------------------------\u001b[0m",
            "\u001b[0;31mNameError\u001b[0m                                 Traceback (most recent call last)",
            "\u001b[0;32m<ipython-input-3-a7a6a418f874>\u001b[0m in \u001b[0;36m<module>\u001b[0;34m()\u001b[0m\n\u001b[0;32m----> 1\u001b[0;31m \u001b[0ms\u001b[0m\u001b[0;34m.\u001b[0m\u001b[0mloc\u001b[0m\u001b[0;34m[\u001b[0m\u001b[0;34m:\u001b[0m\u001b[0;36m2\u001b[0m\u001b[0;34m]\u001b[0m\u001b[0;34m\u001b[0m\u001b[0;34m\u001b[0m\u001b[0m\n\u001b[0m",
            "\u001b[0;31mNameError\u001b[0m: name 's' is not defined"
          ]
        }
      ]
    },
    {
      "metadata": {
        "id": "wN2y3aGlsK8X",
        "colab_type": "code",
        "outputId": "82c7ea79-f2c2-49fc-dc07-8891bb03960d",
        "colab": {},
        "trusted": false
      },
      "cell_type": "code",
      "source": "s.iloc[:2]",
      "execution_count": 0,
      "outputs": [
        {
          "output_type": "execute_result",
          "data": {
            "text/plain": "49    1\n48    2\ndtype: int64"
          },
          "metadata": {
            "tags": []
          },
          "execution_count": 26
        }
      ]
    },
    {
      "metadata": {
        "id": "HG6l67wDsK8a",
        "colab_type": "code",
        "outputId": "e3f6b5c1-72b5-4071-8e8a-17f7c7020038",
        "colab": {},
        "trusted": false
      },
      "cell_type": "code",
      "source": "s.loc[45]",
      "execution_count": 0,
      "outputs": [
        {
          "output_type": "execute_result",
          "data": {
            "text/plain": "5"
          },
          "metadata": {
            "tags": []
          },
          "execution_count": 19
        }
      ]
    },
    {
      "metadata": {
        "id": "BoEBmjE7sK8d",
        "colab_type": "code",
        "outputId": "ec07eb43-a744-4c35-bfb3-7fa78c196bb5",
        "colab": {},
        "trusted": false
      },
      "cell_type": "code",
      "source": "s.iloc[45]",
      "execution_count": 0,
      "outputs": [
        {
          "output_type": "error",
          "ename": "IndexError",
          "evalue": "single positional indexer is out-of-bounds",
          "traceback": [
            "\u001b[0;31m---------------------------------------------------------------------------\u001b[0m",
            "\u001b[0;31mIndexError\u001b[0m                                Traceback (most recent call last)",
            "\u001b[0;32m<ipython-input-20-a6772688a529>\u001b[0m in \u001b[0;36m<module>\u001b[0;34m()\u001b[0m\n\u001b[0;32m----> 1\u001b[0;31m \u001b[0ms\u001b[0m\u001b[0;34m.\u001b[0m\u001b[0miloc\u001b[0m\u001b[0;34m[\u001b[0m\u001b[0;36m45\u001b[0m\u001b[0;34m]\u001b[0m\u001b[0;34m\u001b[0m\u001b[0m\n\u001b[0m",
            "\u001b[0;32m/Library/Frameworks/Python.framework/Versions/3.6/lib/python3.6/site-packages/pandas/core/indexing.py\u001b[0m in \u001b[0;36m__getitem__\u001b[0;34m(self, key)\u001b[0m\n\u001b[1;32m   1326\u001b[0m         \u001b[0;32melse\u001b[0m\u001b[0;34m:\u001b[0m\u001b[0;34m\u001b[0m\u001b[0m\n\u001b[1;32m   1327\u001b[0m             \u001b[0mkey\u001b[0m \u001b[0;34m=\u001b[0m \u001b[0mcom\u001b[0m\u001b[0;34m.\u001b[0m\u001b[0m_apply_if_callable\u001b[0m\u001b[0;34m(\u001b[0m\u001b[0mkey\u001b[0m\u001b[0;34m,\u001b[0m \u001b[0mself\u001b[0m\u001b[0;34m.\u001b[0m\u001b[0mobj\u001b[0m\u001b[0;34m)\u001b[0m\u001b[0;34m\u001b[0m\u001b[0m\n\u001b[0;32m-> 1328\u001b[0;31m             \u001b[0;32mreturn\u001b[0m \u001b[0mself\u001b[0m\u001b[0;34m.\u001b[0m\u001b[0m_getitem_axis\u001b[0m\u001b[0;34m(\u001b[0m\u001b[0mkey\u001b[0m\u001b[0;34m,\u001b[0m \u001b[0maxis\u001b[0m\u001b[0;34m=\u001b[0m\u001b[0;36m0\u001b[0m\u001b[0;34m)\u001b[0m\u001b[0;34m\u001b[0m\u001b[0m\n\u001b[0m\u001b[1;32m   1329\u001b[0m \u001b[0;34m\u001b[0m\u001b[0m\n\u001b[1;32m   1330\u001b[0m     \u001b[0;32mdef\u001b[0m \u001b[0m_is_scalar_access\u001b[0m\u001b[0;34m(\u001b[0m\u001b[0mself\u001b[0m\u001b[0;34m,\u001b[0m \u001b[0mkey\u001b[0m\u001b[0;34m)\u001b[0m\u001b[0;34m:\u001b[0m\u001b[0;34m\u001b[0m\u001b[0m\n",
            "\u001b[0;32m/Library/Frameworks/Python.framework/Versions/3.6/lib/python3.6/site-packages/pandas/core/indexing.py\u001b[0m in \u001b[0;36m_getitem_axis\u001b[0;34m(self, key, axis)\u001b[0m\n\u001b[1;32m   1747\u001b[0m \u001b[0;34m\u001b[0m\u001b[0m\n\u001b[1;32m   1748\u001b[0m             \u001b[0;31m# validate the location\u001b[0m\u001b[0;34m\u001b[0m\u001b[0;34m\u001b[0m\u001b[0m\n\u001b[0;32m-> 1749\u001b[0;31m             \u001b[0mself\u001b[0m\u001b[0;34m.\u001b[0m\u001b[0m_is_valid_integer\u001b[0m\u001b[0;34m(\u001b[0m\u001b[0mkey\u001b[0m\u001b[0;34m,\u001b[0m \u001b[0maxis\u001b[0m\u001b[0;34m)\u001b[0m\u001b[0;34m\u001b[0m\u001b[0m\n\u001b[0m\u001b[1;32m   1750\u001b[0m \u001b[0;34m\u001b[0m\u001b[0m\n\u001b[1;32m   1751\u001b[0m             \u001b[0;32mreturn\u001b[0m \u001b[0mself\u001b[0m\u001b[0;34m.\u001b[0m\u001b[0m_get_loc\u001b[0m\u001b[0;34m(\u001b[0m\u001b[0mkey\u001b[0m\u001b[0;34m,\u001b[0m \u001b[0maxis\u001b[0m\u001b[0;34m=\u001b[0m\u001b[0maxis\u001b[0m\u001b[0;34m)\u001b[0m\u001b[0;34m\u001b[0m\u001b[0m\n",
            "\u001b[0;32m/Library/Frameworks/Python.framework/Versions/3.6/lib/python3.6/site-packages/pandas/core/indexing.py\u001b[0m in \u001b[0;36m_is_valid_integer\u001b[0;34m(self, key, axis)\u001b[0m\n\u001b[1;32m   1636\u001b[0m         \u001b[0ml\u001b[0m \u001b[0;34m=\u001b[0m \u001b[0mlen\u001b[0m\u001b[0;34m(\u001b[0m\u001b[0max\u001b[0m\u001b[0;34m)\u001b[0m\u001b[0;34m\u001b[0m\u001b[0m\n\u001b[1;32m   1637\u001b[0m         \u001b[0;32mif\u001b[0m \u001b[0mkey\u001b[0m \u001b[0;34m>=\u001b[0m \u001b[0ml\u001b[0m \u001b[0;32mor\u001b[0m \u001b[0mkey\u001b[0m \u001b[0;34m<\u001b[0m \u001b[0;34m-\u001b[0m\u001b[0ml\u001b[0m\u001b[0;34m:\u001b[0m\u001b[0;34m\u001b[0m\u001b[0m\n\u001b[0;32m-> 1638\u001b[0;31m             \u001b[0;32mraise\u001b[0m \u001b[0mIndexError\u001b[0m\u001b[0;34m(\u001b[0m\u001b[0;34m\"single positional indexer is out-of-bounds\"\u001b[0m\u001b[0;34m)\u001b[0m\u001b[0;34m\u001b[0m\u001b[0m\n\u001b[0m\u001b[1;32m   1639\u001b[0m         \u001b[0;32mreturn\u001b[0m \u001b[0;32mTrue\u001b[0m\u001b[0;34m\u001b[0m\u001b[0m\n\u001b[1;32m   1640\u001b[0m \u001b[0;34m\u001b[0m\u001b[0m\n",
            "\u001b[0;31mIndexError\u001b[0m: single positional indexer is out-of-bounds"
          ]
        }
      ]
    },
    {
      "metadata": {
        "id": "cjkIxjeksK8g",
        "colab_type": "code",
        "colab": {},
        "trusted": false
      },
      "cell_type": "code",
      "source": "",
      "execution_count": 0,
      "outputs": []
    }
  ],
  "metadata": {
    "colab": {
      "name": "key_operations_on_dataframes.ipynb",
      "version": "0.3.2",
      "provenance": []
    },
    "kernelspec": {
      "name": "python3",
      "display_name": "Python 3",
      "language": "python"
    },
    "language_info": {
      "mimetype": "text/x-python",
      "nbconvert_exporter": "python",
      "name": "python",
      "file_extension": ".py",
      "version": "3.5.4",
      "pygments_lexer": "ipython3",
      "codemirror_mode": {
        "version": 3,
        "name": "ipython"
      }
    }
  },
  "nbformat": 4,
  "nbformat_minor": 1
}