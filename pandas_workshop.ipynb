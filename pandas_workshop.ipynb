{
  "cells": [
    {
      "metadata": {
        "id": "r4jcxC41E2Sd",
        "colab_type": "text"
      },
      "cell_type": "markdown",
      "source": "Data frame is a main object in pandas. It is used to represent data with rows and columns\n\nData frame is a datastructure represent the data in tabular or excel spread sheet like data)"
    },
    {
      "metadata": {
        "id": "zrr_PrIDE2Se",
        "colab_type": "text"
      },
      "cell_type": "markdown",
      "source": "**creating dataframe:**"
    },
    {
      "metadata": {
        "id": "YoCSJNVFE2Sg",
        "colab_type": "code",
        "colab": {},
        "outputId": "4e465819-da2f-4c29-bd8b-13022cd89277",
        "trusted": false
      },
      "cell_type": "code",
      "source": "import pandas as pd\ndf = pd.read_csv(\"weather_data.csv\")   #read weather.csv data\ndf",
      "execution_count": 0,
      "outputs": [
        {
          "output_type": "execute_result",
          "data": {
            "text/html": "<div>\n<style>\n    .dataframe thead tr:only-child th {\n        text-align: right;\n    }\n\n    .dataframe thead th {\n        text-align: left;\n    }\n\n    .dataframe tbody tr th {\n        vertical-align: top;\n    }\n</style>\n<table border=\"1\" class=\"dataframe\">\n  <thead>\n    <tr style=\"text-align: right;\">\n      <th></th>\n      <th>day</th>\n      <th>temperature</th>\n      <th>windspeed</th>\n      <th>event</th>\n    </tr>\n  </thead>\n  <tbody>\n    <tr>\n      <th>0</th>\n      <td>1/1/2017</td>\n      <td>32</td>\n      <td>6</td>\n      <td>Rain</td>\n    </tr>\n    <tr>\n      <th>1</th>\n      <td>1/2/2017</td>\n      <td>35</td>\n      <td>7</td>\n      <td>Sunny</td>\n    </tr>\n    <tr>\n      <th>2</th>\n      <td>1/3/2017</td>\n      <td>28</td>\n      <td>2</td>\n      <td>Snow</td>\n    </tr>\n    <tr>\n      <th>3</th>\n      <td>1/4/2017</td>\n      <td>24</td>\n      <td>7</td>\n      <td>Snow</td>\n    </tr>\n    <tr>\n      <th>4</th>\n      <td>1/5/2017</td>\n      <td>32</td>\n      <td>4</td>\n      <td>Rain</td>\n    </tr>\n    <tr>\n      <th>5</th>\n      <td>1/6/2017</td>\n      <td>31</td>\n      <td>2</td>\n      <td>Sunny</td>\n    </tr>\n  </tbody>\n</table>\n</div>",
            "text/plain": "        day  temperature  windspeed  event\n0  1/1/2017           32          6   Rain\n1  1/2/2017           35          7  Sunny\n2  1/3/2017           28          2   Snow\n3  1/4/2017           24          7   Snow\n4  1/5/2017           32          4   Rain\n5  1/6/2017           31          2  Sunny"
          },
          "metadata": {
            "tags": []
          },
          "execution_count": 16
        }
      ]
    },
    {
      "metadata": {
        "scrolled": true,
        "id": "8K3vksgGE2Sp",
        "colab_type": "code",
        "colab": {},
        "outputId": "f5ae1ecc-2de4-4bb8-bbef-dfe0b80c29ce",
        "trusted": false
      },
      "cell_type": "code",
      "source": "#list of tuples\n\nweather_data = [('1/1/2017', 32, 6, 'Rain'),\n                ('1/2/2017', 35, 7, 'Sunny'),\n                ('1/3/2017', 28, 2, 'Snow'),\n                ('1/4/2017', 24, 7, 'Snow'),\n                ('1/5/2017', 32, 4, 'Rain'),\n                ('1/6/2017', 31, 2, 'Sunny')\n               ]\ndf = pd.DataFrame(weather_data, columns=['day', 'temperature', 'windspeed', 'event'])\ndf",
      "execution_count": 0,
      "outputs": [
        {
          "output_type": "execute_result",
          "data": {
            "text/html": "<div>\n<style>\n    .dataframe thead tr:only-child th {\n        text-align: right;\n    }\n\n    .dataframe thead th {\n        text-align: left;\n    }\n\n    .dataframe tbody tr th {\n        vertical-align: top;\n    }\n</style>\n<table border=\"1\" class=\"dataframe\">\n  <thead>\n    <tr style=\"text-align: right;\">\n      <th></th>\n      <th>day</th>\n      <th>temp</th>\n      <th>windspeed</th>\n      <th>event</th>\n    </tr>\n  </thead>\n  <tbody>\n    <tr>\n      <th>0</th>\n      <td>1/1/2017</td>\n      <td>32</td>\n      <td>6</td>\n      <td>Rain</td>\n    </tr>\n    <tr>\n      <th>1</th>\n      <td>1/2/2017</td>\n      <td>35</td>\n      <td>7</td>\n      <td>Sunny</td>\n    </tr>\n    <tr>\n      <th>2</th>\n      <td>1/3/2017</td>\n      <td>28</td>\n      <td>2</td>\n      <td>Snow</td>\n    </tr>\n    <tr>\n      <th>3</th>\n      <td>1/4/2017</td>\n      <td>24</td>\n      <td>7</td>\n      <td>Snow</td>\n    </tr>\n    <tr>\n      <th>4</th>\n      <td>1/5/2017</td>\n      <td>32</td>\n      <td>4</td>\n      <td>Rain</td>\n    </tr>\n    <tr>\n      <th>5</th>\n      <td>1/6/2017</td>\n      <td>31</td>\n      <td>2</td>\n      <td>Sunny</td>\n    </tr>\n  </tbody>\n</table>\n</div>",
            "text/plain": "        day  temp  windspeed  event\n0  1/1/2017    32          6   Rain\n1  1/2/2017    35          7  Sunny\n2  1/3/2017    28          2   Snow\n3  1/4/2017    24          7   Snow\n4  1/5/2017    32          4   Rain\n5  1/6/2017    31          2  Sunny"
          },
          "metadata": {
            "tags": []
          },
          "execution_count": 15
        }
      ]
    },
    {
      "metadata": {
        "id": "uaeYPoNIE2St",
        "colab_type": "code",
        "colab": {},
        "outputId": "f4dc4a5a-8a3c-44bc-9af2-047768bda050",
        "trusted": false
      },
      "cell_type": "code",
      "source": "#get dimentions of the table\n\ndf.shape   #total number of rows and columns",
      "execution_count": 0,
      "outputs": [
        {
          "output_type": "execute_result",
          "data": {
            "text/plain": "(6, 4)"
          },
          "metadata": {
            "tags": []
          },
          "execution_count": 17
        }
      ]
    },
    {
      "metadata": {
        "id": "6aaD_jAxE2Sx",
        "colab_type": "code",
        "colab": {},
        "outputId": "18a50237-12bd-4268-9053-f2fc2d2cdc43",
        "trusted": false
      },
      "cell_type": "code",
      "source": "#if you want to see initial some rows then use head command (default 5 rows)\ndf.head()",
      "execution_count": 0,
      "outputs": [
        {
          "output_type": "execute_result",
          "data": {
            "text/html": "<div>\n<style>\n    .dataframe thead tr:only-child th {\n        text-align: right;\n    }\n\n    .dataframe thead th {\n        text-align: left;\n    }\n\n    .dataframe tbody tr th {\n        vertical-align: top;\n    }\n</style>\n<table border=\"1\" class=\"dataframe\">\n  <thead>\n    <tr style=\"text-align: right;\">\n      <th></th>\n      <th>day</th>\n      <th>temperature</th>\n      <th>windspeed</th>\n      <th>event</th>\n    </tr>\n  </thead>\n  <tbody>\n    <tr>\n      <th>0</th>\n      <td>1/1/2017</td>\n      <td>32</td>\n      <td>6</td>\n      <td>Rain</td>\n    </tr>\n    <tr>\n      <th>1</th>\n      <td>1/2/2017</td>\n      <td>35</td>\n      <td>7</td>\n      <td>Sunny</td>\n    </tr>\n    <tr>\n      <th>2</th>\n      <td>1/3/2017</td>\n      <td>28</td>\n      <td>2</td>\n      <td>Snow</td>\n    </tr>\n    <tr>\n      <th>3</th>\n      <td>1/4/2017</td>\n      <td>24</td>\n      <td>7</td>\n      <td>Snow</td>\n    </tr>\n    <tr>\n      <th>4</th>\n      <td>1/5/2017</td>\n      <td>32</td>\n      <td>4</td>\n      <td>Rain</td>\n    </tr>\n  </tbody>\n</table>\n</div>",
            "text/plain": "        day  temperature  windspeed  event\n0  1/1/2017           32          6   Rain\n1  1/2/2017           35          7  Sunny\n2  1/3/2017           28          2   Snow\n3  1/4/2017           24          7   Snow\n4  1/5/2017           32          4   Rain"
          },
          "metadata": {
            "tags": []
          },
          "execution_count": 18
        }
      ]
    },
    {
      "metadata": {
        "id": "UxLwacUpE2S4",
        "colab_type": "code",
        "colab": {},
        "outputId": "79603545-12a4-4d36-9ab1-6de6cfb60ae6",
        "trusted": false
      },
      "cell_type": "code",
      "source": "#if you want to see last few rows then use tail command (default last 5 rows will print)\ndf.tail()",
      "execution_count": 0,
      "outputs": [
        {
          "output_type": "execute_result",
          "data": {
            "text/html": "<div>\n<style>\n    .dataframe thead tr:only-child th {\n        text-align: right;\n    }\n\n    .dataframe thead th {\n        text-align: left;\n    }\n\n    .dataframe tbody tr th {\n        vertical-align: top;\n    }\n</style>\n<table border=\"1\" class=\"dataframe\">\n  <thead>\n    <tr style=\"text-align: right;\">\n      <th></th>\n      <th>day</th>\n      <th>temperature</th>\n      <th>windspeed</th>\n      <th>event</th>\n    </tr>\n  </thead>\n  <tbody>\n    <tr>\n      <th>1</th>\n      <td>1/2/2017</td>\n      <td>35</td>\n      <td>7</td>\n      <td>Sunny</td>\n    </tr>\n    <tr>\n      <th>2</th>\n      <td>1/3/2017</td>\n      <td>28</td>\n      <td>2</td>\n      <td>Snow</td>\n    </tr>\n    <tr>\n      <th>3</th>\n      <td>1/4/2017</td>\n      <td>24</td>\n      <td>7</td>\n      <td>Snow</td>\n    </tr>\n    <tr>\n      <th>4</th>\n      <td>1/5/2017</td>\n      <td>32</td>\n      <td>4</td>\n      <td>Rain</td>\n    </tr>\n    <tr>\n      <th>5</th>\n      <td>1/6/2017</td>\n      <td>31</td>\n      <td>2</td>\n      <td>Sunny</td>\n    </tr>\n  </tbody>\n</table>\n</div>",
            "text/plain": "        day  temperature  windspeed  event\n1  1/2/2017           35          7  Sunny\n2  1/3/2017           28          2   Snow\n3  1/4/2017           24          7   Snow\n4  1/5/2017           32          4   Rain\n5  1/6/2017           31          2  Sunny"
          },
          "metadata": {
            "tags": []
          },
          "execution_count": 19
        }
      ]
    },
    {
      "metadata": {
        "id": "xWkZ7rqAE2S8",
        "colab_type": "code",
        "colab": {},
        "outputId": "935837e9-5a8a-4aac-ce26-bbddd9c3bd5f",
        "trusted": false
      },
      "cell_type": "code",
      "source": "#slicing\ndf[2:5]",
      "execution_count": 0,
      "outputs": [
        {
          "output_type": "execute_result",
          "data": {
            "text/html": "<div>\n<style>\n    .dataframe thead tr:only-child th {\n        text-align: right;\n    }\n\n    .dataframe thead th {\n        text-align: left;\n    }\n\n    .dataframe tbody tr th {\n        vertical-align: top;\n    }\n</style>\n<table border=\"1\" class=\"dataframe\">\n  <thead>\n    <tr style=\"text-align: right;\">\n      <th></th>\n      <th>day</th>\n      <th>temperature</th>\n      <th>windspeed</th>\n      <th>event</th>\n    </tr>\n  </thead>\n  <tbody>\n    <tr>\n      <th>2</th>\n      <td>1/3/2017</td>\n      <td>28</td>\n      <td>2</td>\n      <td>Snow</td>\n    </tr>\n    <tr>\n      <th>3</th>\n      <td>1/4/2017</td>\n      <td>24</td>\n      <td>7</td>\n      <td>Snow</td>\n    </tr>\n    <tr>\n      <th>4</th>\n      <td>1/5/2017</td>\n      <td>32</td>\n      <td>4</td>\n      <td>Rain</td>\n    </tr>\n  </tbody>\n</table>\n</div>",
            "text/plain": "        day  temperature  windspeed event\n2  1/3/2017           28          2  Snow\n3  1/4/2017           24          7  Snow\n4  1/5/2017           32          4  Rain"
          },
          "metadata": {
            "tags": []
          },
          "execution_count": 20
        }
      ]
    },
    {
      "metadata": {
        "id": "TQUyOoktE2TB",
        "colab_type": "code",
        "colab": {},
        "outputId": "083c82f6-41d6-4a7f-dd03-75d8218a6746",
        "trusted": false
      },
      "cell_type": "code",
      "source": "df.columns   #print columns in a table",
      "execution_count": 0,
      "outputs": [
        {
          "output_type": "execute_result",
          "data": {
            "text/plain": "Index(['day', 'temperature', 'windspeed', 'event'], dtype='object')"
          },
          "metadata": {
            "tags": []
          },
          "execution_count": 21
        }
      ]
    },
    {
      "metadata": {
        "id": "s1vnbMmuE2TG",
        "colab_type": "code",
        "colab": {},
        "outputId": "7903f35b-882b-4cac-b8a8-0aed51d655d0",
        "trusted": false
      },
      "cell_type": "code",
      "source": "df.day      #print particular column data",
      "execution_count": 0,
      "outputs": [
        {
          "output_type": "execute_result",
          "data": {
            "text/plain": "0    1/1/2017\n1    1/2/2017\n2    1/3/2017\n3    1/4/2017\n4    1/5/2017\n5    1/6/2017\nName: day, dtype: object"
          },
          "metadata": {
            "tags": []
          },
          "execution_count": 22
        }
      ]
    },
    {
      "metadata": {
        "id": "V9rPH1YFE2TK",
        "colab_type": "code",
        "colab": {},
        "outputId": "df20a1fe-651c-4e18-cbd9-e2ded3d637da",
        "trusted": false
      },
      "cell_type": "code",
      "source": "#another way of accessing column\ndf['day'] #df.day (both are same)",
      "execution_count": 0,
      "outputs": [
        {
          "output_type": "execute_result",
          "data": {
            "text/plain": "0    1/1/2017\n1    1/2/2017\n2    1/3/2017\n3    1/4/2017\n4    1/5/2017\n5    1/6/2017\nName: day, dtype: object"
          },
          "metadata": {
            "tags": []
          },
          "execution_count": 24
        }
      ]
    },
    {
      "metadata": {
        "id": "MbsjOYiCE2TN",
        "colab_type": "code",
        "colab": {},
        "outputId": "d0d1b487-7623-46aa-f980-02de70f9305c",
        "trusted": false
      },
      "cell_type": "code",
      "source": "#get 2 or more columns\ndf[['day', 'event']]",
      "execution_count": 0,
      "outputs": [
        {
          "output_type": "execute_result",
          "data": {
            "text/html": "<div>\n<style>\n    .dataframe thead tr:only-child th {\n        text-align: right;\n    }\n\n    .dataframe thead th {\n        text-align: left;\n    }\n\n    .dataframe tbody tr th {\n        vertical-align: top;\n    }\n</style>\n<table border=\"1\" class=\"dataframe\">\n  <thead>\n    <tr style=\"text-align: right;\">\n      <th></th>\n      <th>day</th>\n      <th>event</th>\n    </tr>\n  </thead>\n  <tbody>\n    <tr>\n      <th>0</th>\n      <td>1/1/2017</td>\n      <td>Rain</td>\n    </tr>\n    <tr>\n      <th>1</th>\n      <td>1/2/2017</td>\n      <td>Sunny</td>\n    </tr>\n    <tr>\n      <th>2</th>\n      <td>1/3/2017</td>\n      <td>Snow</td>\n    </tr>\n    <tr>\n      <th>3</th>\n      <td>1/4/2017</td>\n      <td>Snow</td>\n    </tr>\n    <tr>\n      <th>4</th>\n      <td>1/5/2017</td>\n      <td>Rain</td>\n    </tr>\n    <tr>\n      <th>5</th>\n      <td>1/6/2017</td>\n      <td>Sunny</td>\n    </tr>\n  </tbody>\n</table>\n</div>",
            "text/plain": "        day  event\n0  1/1/2017   Rain\n1  1/2/2017  Sunny\n2  1/3/2017   Snow\n3  1/4/2017   Snow\n4  1/5/2017   Rain\n5  1/6/2017  Sunny"
          },
          "metadata": {
            "tags": []
          },
          "execution_count": 26
        }
      ]
    },
    {
      "metadata": {
        "id": "lrr51XzfE2TR",
        "colab_type": "code",
        "colab": {},
        "outputId": "449f85ed-808e-4f86-df48-3170e2420d76",
        "trusted": false
      },
      "cell_type": "code",
      "source": "#get all temperatures\ndf['temperature']",
      "execution_count": 0,
      "outputs": [
        {
          "output_type": "execute_result",
          "data": {
            "text/plain": "0    32\n1    35\n2    28\n3    24\n4    32\n5    31\nName: temperature, dtype: int64"
          },
          "metadata": {
            "tags": []
          },
          "execution_count": 28
        }
      ]
    },
    {
      "metadata": {
        "id": "RDbcg0FhE2TV",
        "colab_type": "code",
        "colab": {},
        "outputId": "1bda9a4d-9774-4e53-fa46-954a1000c864",
        "trusted": false
      },
      "cell_type": "code",
      "source": "#print max temperature\ndf['temperature'].max()",
      "execution_count": 0,
      "outputs": [
        {
          "output_type": "execute_result",
          "data": {
            "text/plain": "35"
          },
          "metadata": {
            "tags": []
          },
          "execution_count": 29
        }
      ]
    },
    {
      "metadata": {
        "id": "xIKB8jvjE2Ta",
        "colab_type": "code",
        "colab": {},
        "outputId": "1b6ae228-bd62-4bea-fc78-b80f870ed83a",
        "trusted": false
      },
      "cell_type": "code",
      "source": "#print max temperature\ndf['temperature'].min()",
      "execution_count": 0,
      "outputs": [
        {
          "output_type": "execute_result",
          "data": {
            "text/plain": "24"
          },
          "metadata": {
            "tags": []
          },
          "execution_count": 30
        }
      ]
    },
    {
      "metadata": {
        "id": "0uWj9DdXE2Te",
        "colab_type": "code",
        "colab": {},
        "outputId": "dcb7b3a3-c928-4a0c-e1dd-97f7f98e8c41",
        "trusted": false
      },
      "cell_type": "code",
      "source": "#print max temperature\ndf['temperature'].describe()",
      "execution_count": 0,
      "outputs": [
        {
          "output_type": "execute_result",
          "data": {
            "text/plain": "count     6.000000\nmean     30.333333\nstd       3.829708\nmin      24.000000\n25%      28.750000\n50%      31.500000\n75%      32.000000\nmax      35.000000\nName: temperature, dtype: float64"
          },
          "metadata": {
            "tags": []
          },
          "execution_count": 31
        }
      ]
    },
    {
      "metadata": {
        "id": "f7yFrONKE2Th",
        "colab_type": "code",
        "colab": {},
        "outputId": "0453933b-844a-44de-b0df-783beb4c3dcd",
        "trusted": false
      },
      "cell_type": "code",
      "source": "# select rows which has maximum temperature\ndf[df.temperature == df.temperature.max()] \n",
      "execution_count": 0,
      "outputs": [
        {
          "output_type": "execute_result",
          "data": {
            "text/html": "<div>\n<style>\n    .dataframe thead tr:only-child th {\n        text-align: right;\n    }\n\n    .dataframe thead th {\n        text-align: left;\n    }\n\n    .dataframe tbody tr th {\n        vertical-align: top;\n    }\n</style>\n<table border=\"1\" class=\"dataframe\">\n  <thead>\n    <tr style=\"text-align: right;\">\n      <th></th>\n      <th>day</th>\n      <th>temperature</th>\n      <th>windspeed</th>\n      <th>event</th>\n    </tr>\n  </thead>\n  <tbody>\n    <tr>\n      <th>1</th>\n      <td>1/2/2017</td>\n      <td>35</td>\n      <td>7</td>\n      <td>Sunny</td>\n    </tr>\n  </tbody>\n</table>\n</div>",
            "text/plain": "        day  temperature  windspeed  event\n1  1/2/2017           35          7  Sunny"
          },
          "metadata": {
            "tags": []
          },
          "execution_count": 32
        }
      ]
    },
    {
      "metadata": {
        "id": "NBaLglmXE2Tk",
        "colab_type": "code",
        "colab": {},
        "outputId": "2aa0863a-316e-46f5-df5b-8020d166d6e8",
        "trusted": false
      },
      "cell_type": "code",
      "source": "#select only day column which has maximum temperature\ndf.day[df.temperature == df.temperature.max()] \n",
      "execution_count": 0,
      "outputs": [
        {
          "output_type": "execute_result",
          "data": {
            "text/plain": "1    1/2/2017\nName: day, dtype: object"
          },
          "metadata": {
            "tags": []
          },
          "execution_count": 33
        }
      ]
    },
    {
      "metadata": {
        "id": "yTYTt6QSE2To",
        "colab_type": "code",
        "colab": {},
        "trusted": false
      },
      "cell_type": "code",
      "source": "",
      "execution_count": 0,
      "outputs": []
    }
  ],
  "metadata": {
    "colab": {
      "name": "pandas_workshop.ipynb",
      "version": "0.3.2",
      "provenance": []
    },
    "kernelspec": {
      "name": "python3",
      "display_name": "Python 3",
      "language": "python"
    },
    "language_info": {
      "mimetype": "text/x-python",
      "nbconvert_exporter": "python",
      "name": "python",
      "pygments_lexer": "ipython3",
      "version": "3.5.4",
      "file_extension": ".py",
      "codemirror_mode": {
        "version": 3,
        "name": "ipython"
      }
    }
  },
  "nbformat": 4,
  "nbformat_minor": 1
}