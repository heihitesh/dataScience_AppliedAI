{
  "cells": [
    {
      "metadata": {},
      "cell_type": "markdown",
      "source": "# Tuples"
    },
    {
      "metadata": {},
      "cell_type": "markdown",
      "source": "-> A tuple is similar to list\n\n-> The diffence between the two is that we can't change the elements of tuple once it is assigned whereas in the list, elements can be changed"
    },
    {
      "metadata": {},
      "cell_type": "markdown",
      "source": "# Tuple creation"
    },
    {
      "metadata": {
        "trusted": false
      },
      "cell_type": "code",
      "source": "#empty tuple\nt = ()\n\n#tuple having integers\nt = (1, 2, 3)\nprint(t)\n\n#tuple with mixed datatypes\nt = (1, 'raju', 28, 'abc')\nprint(t)\n\n#nested tuple\nt = (1, (2, 3, 4), [1, 'raju', 28, 'abc'])\nprint(t)",
      "execution_count": 2,
      "outputs": [
        {
          "name": "stdout",
          "output_type": "stream",
          "text": "(1, 2, 3)\n(1, 'raju', 28, 'abc')\n(1, (2, 3, 4), [1, 'raju', 28, 'abc'])\n"
        }
      ]
    },
    {
      "metadata": {
        "trusted": false
      },
      "cell_type": "code",
      "source": "#only parenthesis is not enough\nt = ('satish')\ntype(t)",
      "execution_count": 3,
      "outputs": [
        {
          "data": {
            "text/plain": "str"
          },
          "execution_count": 3,
          "metadata": {},
          "output_type": "execute_result"
        }
      ]
    },
    {
      "metadata": {
        "trusted": false
      },
      "cell_type": "code",
      "source": "#need a comma at the end\nt = ('satish',)\ntype(t)",
      "execution_count": 4,
      "outputs": [
        {
          "data": {
            "text/plain": "tuple"
          },
          "execution_count": 4,
          "metadata": {},
          "output_type": "execute_result"
        }
      ]
    },
    {
      "metadata": {
        "trusted": false
      },
      "cell_type": "code",
      "source": "#parenthesis is optional\nt = \"satish\", \nprint(type(t))\n\nprint(t)",
      "execution_count": 7,
      "outputs": [
        {
          "name": "stdout",
          "output_type": "stream",
          "text": "<class 'tuple'>\n('satish',)\n"
        }
      ]
    },
    {
      "metadata": {},
      "cell_type": "markdown",
      "source": "# Accessing Elements in Tuple"
    },
    {
      "metadata": {
        "trusted": true
      },
      "cell_type": "code",
      "source": "t = ('satish', 'murali', 'naveen', 'srinu', 'brahma')\n\nprint(t[0])",
      "execution_count": 1,
      "outputs": [
        {
          "output_type": "stream",
          "text": "satish\n",
          "name": "stdout"
        }
      ]
    },
    {
      "metadata": {
        "trusted": false
      },
      "cell_type": "code",
      "source": "#negative index\nprint(t[-1]) #print last element in a tuple",
      "execution_count": 9,
      "outputs": [
        {
          "name": "stdout",
          "output_type": "stream",
          "text": "brahma\n"
        }
      ]
    },
    {
      "metadata": {
        "trusted": false
      },
      "cell_type": "code",
      "source": "#nested tuple\nt = ('ABC', ('satish', 'naveen', 'srinu'))\n\nprint(t[1])",
      "execution_count": 10,
      "outputs": [
        {
          "name": "stdout",
          "output_type": "stream",
          "text": "('satish', 'naveen', 'srinu')\n"
        }
      ]
    },
    {
      "metadata": {
        "trusted": false
      },
      "cell_type": "code",
      "source": "print(t[1][2])",
      "execution_count": 11,
      "outputs": [
        {
          "name": "stdout",
          "output_type": "stream",
          "text": "srinu\n"
        }
      ]
    },
    {
      "metadata": {
        "trusted": false
      },
      "cell_type": "code",
      "source": "#Slicing\nt = (1, 2, 3, 4, 5, 6)\n\nprint(t[1:4])\n\n#print elements from starting to 2nd last elements\nprint(t[:-2])\n\n#print elements from starting to end\nprint(t[:])",
      "execution_count": 1,
      "outputs": [
        {
          "name": "stdout",
          "output_type": "stream",
          "text": "(2, 3, 4)\n(1, 2, 3, 4)\n(1, 2, 3, 4, 5, 6)\n"
        }
      ]
    },
    {
      "metadata": {},
      "cell_type": "markdown",
      "source": "# Changing a Tuple"
    },
    {
      "metadata": {},
      "cell_type": "markdown",
      "source": "#unlike lists, tuples are immutable\n#This means that elements of a tuple cannot be changed once it has been assigned. But, if the element is itself a mutable datatype like list, its nested items can be changed."
    },
    {
      "metadata": {
        "trusted": false
      },
      "cell_type": "code",
      "source": "#creating tuple\nt = (1, 2, 3, 4, [5, 6, 7])\n\nt[2] = 'x' #will get TypeError",
      "execution_count": 3,
      "outputs": [
        {
          "ename": "TypeError",
          "evalue": "'tuple' object does not support item assignment",
          "output_type": "error",
          "traceback": [
            "\u001b[0;31m---------------------------------------------------------------------------\u001b[0m",
            "\u001b[0;31mTypeError\u001b[0m                                 Traceback (most recent call last)",
            "\u001b[0;32m<ipython-input-3-9f4cbf6ee0de>\u001b[0m in \u001b[0;36m<module>\u001b[0;34m()\u001b[0m\n\u001b[1;32m      2\u001b[0m \u001b[0mt\u001b[0m \u001b[0;34m=\u001b[0m \u001b[0;34m(\u001b[0m\u001b[0;36m1\u001b[0m\u001b[0;34m,\u001b[0m \u001b[0;36m2\u001b[0m\u001b[0;34m,\u001b[0m \u001b[0;36m3\u001b[0m\u001b[0;34m,\u001b[0m \u001b[0;36m4\u001b[0m\u001b[0;34m,\u001b[0m \u001b[0;34m[\u001b[0m\u001b[0;36m5\u001b[0m\u001b[0;34m,\u001b[0m \u001b[0;36m6\u001b[0m\u001b[0;34m,\u001b[0m \u001b[0;36m7\u001b[0m\u001b[0;34m]\u001b[0m\u001b[0;34m)\u001b[0m\u001b[0;34m\u001b[0m\u001b[0m\n\u001b[1;32m      3\u001b[0m \u001b[0;34m\u001b[0m\u001b[0m\n\u001b[0;32m----> 4\u001b[0;31m \u001b[0mt\u001b[0m\u001b[0;34m[\u001b[0m\u001b[0;36m2\u001b[0m\u001b[0;34m]\u001b[0m \u001b[0;34m=\u001b[0m \u001b[0;34m'x'\u001b[0m \u001b[0;31m#will get TypeError\u001b[0m\u001b[0;34m\u001b[0m\u001b[0m\n\u001b[0m",
            "\u001b[0;31mTypeError\u001b[0m: 'tuple' object does not support item assignment"
          ]
        }
      ]
    },
    {
      "metadata": {
        "trusted": false
      },
      "cell_type": "code",
      "source": "t[4][1] = 'satish'\nprint(t)",
      "execution_count": 4,
      "outputs": [
        {
          "name": "stdout",
          "output_type": "stream",
          "text": "(1, 2, 3, 4, [5, 'satish', 7])\n"
        }
      ]
    },
    {
      "metadata": {
        "trusted": false
      },
      "cell_type": "code",
      "source": "#concatinating tuples\n\nt = (1, 2, 3) + (4, 5, 6)\nprint(t)",
      "execution_count": 15,
      "outputs": [
        {
          "name": "stdout",
          "output_type": "stream",
          "text": "(1, 2, 3, 4, 5, 6)\n"
        }
      ]
    },
    {
      "metadata": {
        "trusted": false
      },
      "cell_type": "code",
      "source": "#repeat the elements in a tuple for a given number of times using the * operator.\nt = (('satish', ) * 4)\nprint(t)",
      "execution_count": 16,
      "outputs": [
        {
          "name": "stdout",
          "output_type": "stream",
          "text": "('satish', 'satish', 'satish', 'satish')\n"
        }
      ]
    },
    {
      "metadata": {},
      "cell_type": "markdown",
      "source": "# Tuple Deletion"
    },
    {
      "metadata": {
        "collapsed": true,
        "trusted": false
      },
      "cell_type": "code",
      "source": "#we cannot change the elements in a tuple. \n# That also means we cannot delete or remove items from a tuple.\n\n#delete entire tuple using del keyword\nt = (1, 2, 3, 4, 5, 6)\n\n#delete entire tuple\ndel t\n\n",
      "execution_count": 18,
      "outputs": []
    },
    {
      "metadata": {},
      "cell_type": "markdown",
      "source": "# Tuple Count"
    },
    {
      "metadata": {
        "trusted": false
      },
      "cell_type": "code",
      "source": "t = (1, 2, 3, 1, 3, 3, 4, 1)\n\n#get the frequency of particular element appears in a tuple\nt.count(1)",
      "execution_count": 19,
      "outputs": [
        {
          "data": {
            "text/plain": "3"
          },
          "execution_count": 19,
          "metadata": {},
          "output_type": "execute_result"
        }
      ]
    },
    {
      "metadata": {},
      "cell_type": "markdown",
      "source": "# Tuple Index"
    },
    {
      "metadata": {
        "trusted": true
      },
      "cell_type": "code",
      "source": "t = (1, 2, 3, 1, 3, 3, 4, 1)\n\nprint(t.index(7)) #return index of the first element is equal to 3\n\n#print index of the 1\n\n",
      "execution_count": 4,
      "outputs": [
        {
          "output_type": "error",
          "ename": "ValueError",
          "evalue": "tuple.index(x): x not in tuple",
          "traceback": [
            "\u001b[0;31m---------------------------------------------------------------------------\u001b[0m",
            "\u001b[0;31mValueError\u001b[0m                                Traceback (most recent call last)",
            "\u001b[0;32m<ipython-input-4-49daec13c6fa>\u001b[0m in \u001b[0;36m<module>\u001b[0;34m()\u001b[0m\n\u001b[1;32m      1\u001b[0m \u001b[0mt\u001b[0m \u001b[0;34m=\u001b[0m \u001b[0;34m(\u001b[0m\u001b[0;36m1\u001b[0m\u001b[0;34m,\u001b[0m \u001b[0;36m2\u001b[0m\u001b[0;34m,\u001b[0m \u001b[0;36m3\u001b[0m\u001b[0;34m,\u001b[0m \u001b[0;36m1\u001b[0m\u001b[0;34m,\u001b[0m \u001b[0;36m3\u001b[0m\u001b[0;34m,\u001b[0m \u001b[0;36m3\u001b[0m\u001b[0;34m,\u001b[0m \u001b[0;36m4\u001b[0m\u001b[0;34m,\u001b[0m \u001b[0;36m1\u001b[0m\u001b[0;34m)\u001b[0m\u001b[0;34m\u001b[0m\u001b[0m\n\u001b[1;32m      2\u001b[0m \u001b[0;34m\u001b[0m\u001b[0m\n\u001b[0;32m----> 3\u001b[0;31m \u001b[0mprint\u001b[0m\u001b[0;34m(\u001b[0m\u001b[0mt\u001b[0m\u001b[0;34m.\u001b[0m\u001b[0mindex\u001b[0m\u001b[0;34m(\u001b[0m\u001b[0;36m7\u001b[0m\u001b[0;34m)\u001b[0m\u001b[0;34m)\u001b[0m \u001b[0;31m#return index of the first element is equal to 3\u001b[0m\u001b[0;34m\u001b[0m\u001b[0m\n\u001b[0m\u001b[1;32m      4\u001b[0m \u001b[0;34m\u001b[0m\u001b[0m\n\u001b[1;32m      5\u001b[0m \u001b[0;31m#print index of the 1\u001b[0m\u001b[0;34m\u001b[0m\u001b[0;34m\u001b[0m\u001b[0m\n",
            "\u001b[0;31mValueError\u001b[0m: tuple.index(x): x not in tuple"
          ]
        }
      ]
    },
    {
      "metadata": {},
      "cell_type": "markdown",
      "source": "# Tuple Memebership "
    },
    {
      "metadata": {
        "trusted": false
      },
      "cell_type": "code",
      "source": "#test if an item exists in a tuple or not, using the keyword in.\nt = (1, 2, 3, 4, 5, 6)\n\nprint(1 in t)",
      "execution_count": 23,
      "outputs": [
        {
          "name": "stdout",
          "output_type": "stream",
          "text": "True\n"
        }
      ]
    },
    {
      "metadata": {
        "trusted": false
      },
      "cell_type": "code",
      "source": "print(7 in t)",
      "execution_count": 24,
      "outputs": [
        {
          "name": "stdout",
          "output_type": "stream",
          "text": "False\n"
        }
      ]
    },
    {
      "metadata": {},
      "cell_type": "markdown",
      "source": "# Built in Functions"
    },
    {
      "metadata": {},
      "cell_type": "markdown",
      "source": "# Tuple Length"
    },
    {
      "metadata": {
        "trusted": false
      },
      "cell_type": "code",
      "source": "t = (1, 2, 3, 4, 5, 6)\nprint(len(t))",
      "execution_count": 25,
      "outputs": [
        {
          "name": "stdout",
          "output_type": "stream",
          "text": "6\n"
        }
      ]
    },
    {
      "metadata": {},
      "cell_type": "markdown",
      "source": "# Tuple Sort"
    },
    {
      "metadata": {
        "trusted": false
      },
      "cell_type": "code",
      "source": "t = (4, 5, 1, 2, 3)\n\nnew_t = sorted(t)\nprint(new_t) #Take elements in the tuple and return a new sorted list \n             #(does not sort the tuple itself).",
      "execution_count": 26,
      "outputs": [
        {
          "name": "stdout",
          "output_type": "stream",
          "text": "[1, 2, 3, 4, 5]\n"
        }
      ]
    },
    {
      "metadata": {
        "trusted": false
      },
      "cell_type": "code",
      "source": "#get the largest element in a tuple\nt = (2, 5, 1, 6, 9)\n\nprint(max(t))",
      "execution_count": 27,
      "outputs": [
        {
          "name": "stdout",
          "output_type": "stream",
          "text": "9\n"
        }
      ]
    },
    {
      "metadata": {
        "trusted": false
      },
      "cell_type": "code",
      "source": "#get the smallest element in a tuple\nprint(min(t))",
      "execution_count": 28,
      "outputs": [
        {
          "name": "stdout",
          "output_type": "stream",
          "text": "1\n"
        }
      ]
    },
    {
      "metadata": {
        "trusted": false
      },
      "cell_type": "code",
      "source": "#get sum of elments in the tuple\nprint(sum(t))",
      "execution_count": 29,
      "outputs": [
        {
          "name": "stdout",
          "output_type": "stream",
          "text": "23\n"
        }
      ]
    }
  ],
  "metadata": {
    "kernelspec": {
      "name": "python3",
      "display_name": "Python 3",
      "language": "python"
    },
    "language_info": {
      "mimetype": "text/x-python",
      "nbconvert_exporter": "python",
      "name": "python",
      "pygments_lexer": "ipython3",
      "version": "3.5.4",
      "file_extension": ".py",
      "codemirror_mode": {
        "version": 3,
        "name": "ipython"
      }
    }
  },
  "nbformat": 4,
  "nbformat_minor": 2
}