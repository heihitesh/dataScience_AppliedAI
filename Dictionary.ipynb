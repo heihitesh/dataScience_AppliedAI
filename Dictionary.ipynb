{
  "cells": [
    {
      "metadata": {
        "id": "s6wRWQbM8YWK",
        "colab_type": "text"
      },
      "cell_type": "markdown",
      "source": "# Dictionary"
    },
    {
      "metadata": {
        "id": "CQgSdaRE8YWP",
        "colab_type": "text"
      },
      "cell_type": "markdown",
      "source": "Python dictionary is an unordered collection of items. While other compound data types have only value as an element, a dictionary has a key: value pair."
    },
    {
      "metadata": {
        "id": "QNZdRerx8YWQ",
        "colab_type": "text"
      },
      "cell_type": "markdown",
      "source": "# Dict Creation"
    },
    {
      "metadata": {
        "id": "PhZ00ce88YWS",
        "colab_type": "code",
        "colab": {},
        "outputId": "08e7f3c2-24d0-4aab-8869-9c199552f206",
        "trusted": false
      },
      "cell_type": "code",
      "source": "#empty dictionary\nmy_dict = {}\n\n#dictionary with integer keys\nmy_dict = {1: 'abc', 2: 'xyz'}\nprint(my_dict)\n\n#dictionary with mixed keys\nmy_dict = {'name': 'satish', 1: ['abc', 'xyz']}\nprint(my_dict)\n\n\n#create empty dictionary using dict()\nmy_dict = dict()\n\nmy_dict = dict([(1, 'abc'), (2, 'xyz')])    #create a dict with list of tuples\nprint(my_dict)",
      "execution_count": 0,
      "outputs": [
        {
          "output_type": "stream",
          "text": "{1: 'abc', 2: 'xyz'}\n{'name': 'satish', 1: ['abc', 'xyz']}\n{1: 'abc', 2: 'xyz'}\n",
          "name": "stdout"
        }
      ]
    },
    {
      "metadata": {
        "id": "CsZFln1r8YWf",
        "colab_type": "text"
      },
      "cell_type": "markdown",
      "source": "# Dict Access"
    },
    {
      "metadata": {
        "id": "nCQLFclM8YWh",
        "colab_type": "code",
        "colab": {},
        "outputId": "af38adcd-3f05-4018-9912-8e9abe57e92d",
        "trusted": false
      },
      "cell_type": "code",
      "source": "my_dict = {'name': 'satish', 'age': 27, 'address': 'guntur'}\n\n#get name\nprint(my_dict['name'])",
      "execution_count": 0,
      "outputs": [
        {
          "output_type": "stream",
          "text": "satish\n",
          "name": "stdout"
        }
      ]
    },
    {
      "metadata": {
        "id": "BYsuLB548YWl",
        "colab_type": "code",
        "colab": {},
        "outputId": "d92d3779-af54-41f6-e0c7-7f2ce831e7e4",
        "trusted": false
      },
      "cell_type": "code",
      "source": "#if key is not present it gives KeyError\nprint(my_dict['degree'])",
      "execution_count": 0,
      "outputs": [
        {
          "output_type": "error",
          "ename": "KeyError",
          "evalue": "'degree'",
          "traceback": [
            "\u001b[0;31m---------------------------------------------------------------------------\u001b[0m",
            "\u001b[0;31mKeyError\u001b[0m                                  Traceback (most recent call last)",
            "\u001b[0;32m<ipython-input-5-c5aba24e1656>\u001b[0m in \u001b[0;36m<module>\u001b[0;34m()\u001b[0m\n\u001b[1;32m      1\u001b[0m \u001b[0;31m#if key is not present it gives KeyError\u001b[0m\u001b[0;34m\u001b[0m\u001b[0;34m\u001b[0m\u001b[0m\n\u001b[0;32m----> 2\u001b[0;31m \u001b[0mprint\u001b[0m\u001b[0;34m(\u001b[0m\u001b[0mmy_dict\u001b[0m\u001b[0;34m[\u001b[0m\u001b[0;34m'degree'\u001b[0m\u001b[0;34m]\u001b[0m\u001b[0;34m)\u001b[0m\u001b[0;34m\u001b[0m\u001b[0m\n\u001b[0m",
            "\u001b[0;31mKeyError\u001b[0m: 'degree'"
          ]
        }
      ]
    },
    {
      "metadata": {
        "id": "WNJMH4qp8YWo",
        "colab_type": "code",
        "colab": {},
        "outputId": "f9a5a7e4-dc63-4c7d-dd77-b71ecb9e51fb",
        "trusted": false
      },
      "cell_type": "code",
      "source": "#another way of accessing key\nprint(my_dict.get('address'))",
      "execution_count": 0,
      "outputs": [
        {
          "output_type": "stream",
          "text": "guntur\n",
          "name": "stdout"
        }
      ]
    },
    {
      "metadata": {
        "id": "fwrZjWaD8YWs",
        "colab_type": "code",
        "colab": {},
        "outputId": "80d0fab3-fc6e-47c2-bb44-7678b2c6d287",
        "trusted": false
      },
      "cell_type": "code",
      "source": "#if key is not present it will give None using get method\nprint(my_dict.get('degree'))",
      "execution_count": 0,
      "outputs": [
        {
          "output_type": "stream",
          "text": "None\n",
          "name": "stdout"
        }
      ]
    },
    {
      "metadata": {
        "id": "QVQG50dG8YWy",
        "colab_type": "text"
      },
      "cell_type": "markdown",
      "source": "# Dict Add or Modify  Elements"
    },
    {
      "metadata": {
        "id": "Cg9LrSiL8YW0",
        "colab_type": "code",
        "colab": {},
        "outputId": "035304a8-cc63-4bb2-d5ee-a58a22c19f30",
        "trusted": false
      },
      "cell_type": "code",
      "source": "my_dict = {'name': 'satish', 'age': 27, 'address': 'guntur'}\n\n#update name \nmy_dict['name'] = 'raju'\n\nprint(my_dict)",
      "execution_count": 0,
      "outputs": [
        {
          "output_type": "stream",
          "text": "{'name': 'raju', 'age': 27, 'address': 'guntur'}\n",
          "name": "stdout"
        }
      ]
    },
    {
      "metadata": {
        "id": "CZ2yD3Yv8YW5",
        "colab_type": "code",
        "colab": {},
        "outputId": "ee35a1c7-d8cd-4a80-8785-bdfffb0481cf",
        "trusted": false
      },
      "cell_type": "code",
      "source": "#add new key\nmy_dict['degree'] = 'M.Tech'\n\nprint(my_dict)",
      "execution_count": 0,
      "outputs": [
        {
          "output_type": "stream",
          "text": "{'name': 'raju', 'age': 27, 'address': 'guntur', 'degree': 'M.Tech'}\n",
          "name": "stdout"
        }
      ]
    },
    {
      "metadata": {
        "id": "JlbqO1N78YW8",
        "colab_type": "text"
      },
      "cell_type": "markdown",
      "source": "# Dict Delete or Remove Element"
    },
    {
      "metadata": {
        "id": "8WJsHD9E8YW9",
        "colab_type": "code",
        "colab": {},
        "outputId": "a186c3a8-e420-41e7-d112-fce1fc4ffffc",
        "trusted": false
      },
      "cell_type": "code",
      "source": "#create a dictionary\nmy_dict = {'name': 'satish', 'age': 27, 'address': 'guntur'}\n\n#remove a particular item\nprint(my_dict.pop('age'))\n\nprint(my_dict)",
      "execution_count": 0,
      "outputs": [
        {
          "output_type": "stream",
          "text": "27\n{'name': 'satish', 'address': 'guntur'}\n",
          "name": "stdout"
        }
      ]
    },
    {
      "metadata": {
        "id": "l65nK-cQ8YXA",
        "colab_type": "code",
        "colab": {},
        "outputId": "62583228-7758-4d6c-bf6c-76bda6c8df8b",
        "trusted": false
      },
      "cell_type": "code",
      "source": "my_dict = {'name': 'satish', 'age': 27, 'address': 'guntur'}\n\n#remove an arbitarty key\nmy_dict.popitem()\n\nprint(my_dict)",
      "execution_count": 0,
      "outputs": [
        {
          "output_type": "stream",
          "text": "{'name': 'satish', 'age': 27}\n",
          "name": "stdout"
        }
      ]
    },
    {
      "metadata": {
        "id": "TY12fl4Q8YXD",
        "colab_type": "code",
        "colab": {},
        "outputId": "e70eed58-1ce8-4db9-9429-73483d77cb06",
        "trusted": false
      },
      "cell_type": "code",
      "source": "squares = {2: 4, 3: 9, 4: 16, 5: 25}\n\n#delete particular key\ndel squares[2]\n\nprint(squares)",
      "execution_count": 0,
      "outputs": [
        {
          "output_type": "stream",
          "text": "{3: 9, 4: 16, 5: 25}\n",
          "name": "stdout"
        }
      ]
    },
    {
      "metadata": {
        "id": "WaE9o6-j8YXG",
        "colab_type": "code",
        "colab": {},
        "outputId": "3b26053a-8ce1-4da0-bc7d-8a019b20699c",
        "trusted": false
      },
      "cell_type": "code",
      "source": "#remove all items\nsquares.clear()\n\nprint(squares)",
      "execution_count": 0,
      "outputs": [
        {
          "output_type": "stream",
          "text": "{}\n",
          "name": "stdout"
        }
      ]
    },
    {
      "metadata": {
        "id": "LUrIAJo58YXK",
        "colab_type": "code",
        "colab": {},
        "outputId": "8bc10a7e-15e8-461f-e743-41da6e57c898",
        "trusted": false
      },
      "cell_type": "code",
      "source": "squares = {2: 4, 3: 9, 4: 16, 5: 25}\n\n#delete dictionary itself\ndel squares\n\nprint(squares) #NameError because dict is deleted",
      "execution_count": 0,
      "outputs": [
        {
          "output_type": "error",
          "ename": "NameError",
          "evalue": "name 'squares' is not defined",
          "traceback": [
            "\u001b[0;31m---------------------------------------------------------------------------\u001b[0m",
            "\u001b[0;31mNameError\u001b[0m                                 Traceback (most recent call last)",
            "\u001b[0;32m<ipython-input-16-355e8277492b>\u001b[0m in \u001b[0;36m<module>\u001b[0;34m()\u001b[0m\n\u001b[1;32m      4\u001b[0m \u001b[0;32mdel\u001b[0m \u001b[0msquares\u001b[0m\u001b[0;34m\u001b[0m\u001b[0m\n\u001b[1;32m      5\u001b[0m \u001b[0;34m\u001b[0m\u001b[0m\n\u001b[0;32m----> 6\u001b[0;31m \u001b[0mprint\u001b[0m\u001b[0;34m(\u001b[0m\u001b[0msquares\u001b[0m\u001b[0;34m)\u001b[0m \u001b[0;31m#NameError because dict is deleted\u001b[0m\u001b[0;34m\u001b[0m\u001b[0m\n\u001b[0m",
            "\u001b[0;31mNameError\u001b[0m: name 'squares' is not defined"
          ]
        }
      ]
    },
    {
      "metadata": {
        "id": "umrKAvuz8YXP",
        "colab_type": "text"
      },
      "cell_type": "markdown",
      "source": "# Dictionary Methods"
    },
    {
      "metadata": {
        "id": "pC6eM-Uz8YXQ",
        "colab_type": "code",
        "colab": {},
        "outputId": "06a4c7f4-113c-44ac-a1fd-086511705807",
        "trusted": false
      },
      "cell_type": "code",
      "source": "squares = {2: 4, 3: 9, 4: 16, 5: 25}\n\nmy_dict = squares.copy()\nprint(my_dict)",
      "execution_count": 0,
      "outputs": [
        {
          "output_type": "stream",
          "text": "{2: 4, 3: 9, 4: 16, 5: 25}\n",
          "name": "stdout"
        }
      ]
    },
    {
      "metadata": {
        "id": "8smTk2Jr8YXT",
        "colab_type": "code",
        "colab": {},
        "outputId": "242de0a4-d809-4328-e13f-f72f2ce35aa9",
        "trusted": false
      },
      "cell_type": "code",
      "source": "#fromkeys[seq[, v]] -> Return a new dictionary with keys from seq and value equal to v (defaults to None).\nsubjects = {}.fromkeys(['Math', 'English', 'Hindi'], 0)\nprint(subjects)",
      "execution_count": 0,
      "outputs": [
        {
          "output_type": "stream",
          "text": "{'Math': 0, 'English': 0, 'Hindi': 0}\n",
          "name": "stdout"
        }
      ]
    },
    {
      "metadata": {
        "id": "-wW9T7Id8YXW",
        "colab_type": "code",
        "colab": {},
        "outputId": "49fac564-9a97-4107-832b-1ab7d4da03dc",
        "trusted": false
      },
      "cell_type": "code",
      "source": "subjects = {2:4, 3:9, 4:16, 5:25}\nprint(subjects.items()) #return a new view of the dictionary items (key, value)",
      "execution_count": 0,
      "outputs": [
        {
          "output_type": "stream",
          "text": "dict_items([(2, 4), (3, 9), (4, 16), (5, 25)])\n",
          "name": "stdout"
        }
      ]
    },
    {
      "metadata": {
        "id": "YMjrhvUr8YXZ",
        "colab_type": "code",
        "colab": {},
        "outputId": "1a1eceaf-43f1-433e-95fc-dafb9087d2c0",
        "trusted": false
      },
      "cell_type": "code",
      "source": "subjects = {2:4, 3:9, 4:16, 5:25}\nprint(subjects.keys()) #return a new view of the dictionary keys",
      "execution_count": 0,
      "outputs": [
        {
          "output_type": "stream",
          "text": "dict_keys([2, 3, 4, 5])\n",
          "name": "stdout"
        }
      ]
    },
    {
      "metadata": {
        "id": "B2AU0n-Z8YXd",
        "colab_type": "code",
        "colab": {},
        "outputId": "358facae-79f4-4e30-8e6f-8c388e0441af",
        "trusted": false
      },
      "cell_type": "code",
      "source": "subjects = {2:4, 3:9, 4:16, 5:25}\nprint(subjects.values()) #return a new view of the dictionary values",
      "execution_count": 0,
      "outputs": [
        {
          "output_type": "stream",
          "text": "dict_values([4, 9, 16, 25])\n",
          "name": "stdout"
        }
      ]
    },
    {
      "metadata": {
        "id": "Hy5A9de58YXg",
        "colab_type": "code",
        "colab": {},
        "outputId": "f8ea85e1-81f8-4b35-8a0a-f645fbc286cd",
        "trusted": false
      },
      "cell_type": "code",
      "source": "#get list of all available methods and attributes of dictionary\nd = {}\nprint(dir(d))",
      "execution_count": 0,
      "outputs": [
        {
          "output_type": "stream",
          "text": "['__class__', '__contains__', '__delattr__', '__delitem__', '__dir__', '__doc__', '__eq__', '__format__', '__ge__', '__getattribute__', '__getitem__', '__gt__', '__hash__', '__init__', '__init_subclass__', '__iter__', '__le__', '__len__', '__lt__', '__ne__', '__new__', '__reduce__', '__reduce_ex__', '__repr__', '__setattr__', '__setitem__', '__sizeof__', '__str__', '__subclasshook__', 'clear', 'copy', 'fromkeys', 'get', 'items', 'keys', 'pop', 'popitem', 'setdefault', 'update', 'values']\n",
          "name": "stdout"
        }
      ]
    },
    {
      "metadata": {
        "id": "YCcb_-y_8YXo",
        "colab_type": "text"
      },
      "cell_type": "markdown",
      "source": "# Dict Comprehension"
    },
    {
      "metadata": {
        "id": "b8nEYWrB8YXr",
        "colab_type": "code",
        "colab": {},
        "outputId": "2dcb519c-f2a1-4301-8cc8-b85ffd6b624b",
        "trusted": false
      },
      "cell_type": "code",
      "source": "#Dict comprehensions are just like list comprehensions but for dictionaries\n\nd = {'a': 1, 'b': 2, 'c': 3}\nfor pair in d.items():\n    print(pair)",
      "execution_count": 0,
      "outputs": [
        {
          "output_type": "stream",
          "text": "('a', 1)\n('c', 3)\n('b', 2)\n",
          "name": "stdout"
        }
      ]
    },
    {
      "metadata": {
        "id": "sKVoZ74V8YXw",
        "colab_type": "code",
        "colab": {},
        "outputId": "c88ef99f-ba54-49dc-d619-1f7d448aba5c",
        "trusted": false
      },
      "cell_type": "code",
      "source": "#Creating a new dictionary with only pairs where the value is larger than 2\nd = {'a': 1, 'b': 2, 'c': 3, 'd': 4}\nnew_dict = {k:v for k, v in d.items() if v > 2}\nprint(new_dict)",
      "execution_count": 0,
      "outputs": [
        {
          "output_type": "stream",
          "text": "{'c': 3, 'd': 4}\n",
          "name": "stdout"
        }
      ]
    },
    {
      "metadata": {
        "id": "JE08JjT28YXz",
        "colab_type": "code",
        "colab": {},
        "outputId": "9236c079-1c83-42f2-9c2e-2209664c42c4",
        "trusted": false
      },
      "cell_type": "code",
      "source": "#We can also perform operations on the key value pairs\nd = {'a':1,'b':2,'c':3,'d':4,'e':5}\nd = {k + 'c':v * 2 for k, v in d.items() if v > 2}\nprint(d)",
      "execution_count": 0,
      "outputs": [
        {
          "output_type": "stream",
          "text": "{'cc': 6, 'dc': 8, 'ec': 10}\n",
          "name": "stdout"
        }
      ]
    },
    {
      "metadata": {
        "id": "g8b_0DPE8YX1",
        "colab_type": "code",
        "colab": {},
        "trusted": false
      },
      "cell_type": "code",
      "source": "",
      "execution_count": 0,
      "outputs": []
    }
  ],
  "metadata": {
    "kernelspec": {
      "name": "python3",
      "display_name": "Python 3",
      "language": "python"
    },
    "language_info": {
      "mimetype": "text/x-python",
      "nbconvert_exporter": "python",
      "name": "python",
      "file_extension": ".py",
      "version": "3.5.4",
      "pygments_lexer": "ipython3",
      "codemirror_mode": {
        "version": 3,
        "name": "ipython"
      }
    },
    "colab": {
      "name": "2.5.ipynb",
      "provenance": []
    }
  },
  "nbformat": 4,
  "nbformat_minor": 1
}